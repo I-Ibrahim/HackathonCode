{
 "cells": [
  {
   "cell_type": "markdown",
   "metadata": {},
   "source": [
    "# Acquire data"
   ]
  },
  {
   "cell_type": "markdown",
   "metadata": {},
   "source": [
    "This notebook loads all of the csv files and saves them to a single pandas dataframe"
   ]
  },
  {
   "cell_type": "code",
   "execution_count": 24,
   "metadata": {
    "collapsed": false
   },
   "outputs": [],
   "source": [
    "import pandas as pd\n",
    "import os\n",
    "from datetime import datetime as dt"
   ]
  },
  {
   "cell_type": "code",
   "execution_count": 25,
   "metadata": {
    "collapsed": false
   },
   "outputs": [],
   "source": [
    "df = pd.DataFrame()\n",
    "\n",
    "path = '../data/raw/'\n",
    "\n",
    "for filename in os.listdir('../data/raw'):\n",
    "    if filename[-4:] == '.csv':\n",
    "        df = df.append(pd.read_csv(path + filename, encoding='latin1'))\n",
    "\n",
    "df = df.sort_values('Date (GMT)', ascending=False).drop_duplicates(['GUID', 'URL']).reset_index(drop=True)"
   ]
  },
  {
   "cell_type": "code",
   "execution_count": 26,
   "metadata": {
    "collapsed": false
   },
   "outputs": [],
   "source": [
    "df.to_pickle('../data/interim/aggregated.pkl')"
   ]
  },
  {
   "cell_type": "code",
   "execution_count": 37,
   "metadata": {
    "collapsed": false
   },
   "outputs": [
    {
     "data": {
      "text/html": [
       "<div>\n",
       "<table border=\"1\" class=\"dataframe\">\n",
       "  <thead>\n",
       "    <tr style=\"text-align: right;\">\n",
       "      <th></th>\n",
       "      <th>Contents</th>\n",
       "      <th>Author</th>\n",
       "    </tr>\n",
       "  </thead>\n",
       "  <tbody>\n",
       "    <tr>\n",
       "      <th>0</th>\n",
       "      <td>Rudd goes in for a strong and stable photobomb...</td>\n",
       "      <td>@sharmilabousa</td>\n",
       "    </tr>\n",
       "    <tr>\n",
       "      <th>1</th>\n",
       "      <td>RT @gareth13479 @AmberRuddHR gets the prize fo...</td>\n",
       "      <td>@deadpubs</td>\n",
       "    </tr>\n",
       "    <tr>\n",
       "      <th>2</th>\n",
       "      <td>RT @TasminaSheikh Team @theSNP Auchterarder of...</td>\n",
       "      <td>@IsThisAB0t</td>\n",
       "    </tr>\n",
       "    <tr>\n",
       "      <th>3</th>\n",
       "      <td>@LarmySausage @HackneyAbbott @JuliaHB1 @AmberR...</td>\n",
       "      <td>@MsJoNeary</td>\n",
       "    </tr>\n",
       "    <tr>\n",
       "      <th>4</th>\n",
       "      <td>RT @BarbPitruz @TulipSiddiq brilliant as alway...</td>\n",
       "      <td>@RoxethMyLord</td>\n",
       "    </tr>\n",
       "    <tr>\n",
       "      <th>5</th>\n",
       "      <td>@andrewj2009 no joke  no one is here to suppor...</td>\n",
       "      <td>@king_darran</td>\n",
       "    </tr>\n",
       "    <tr>\n",
       "      <th>6</th>\n",
       "      <td>RT @HackneyAbbott In tough Brexit negotiations...</td>\n",
       "      <td>@AliMalik1x</td>\n",
       "    </tr>\n",
       "    <tr>\n",
       "      <th>7</th>\n",
       "      <td>RT @HackneyAbbott In tough Brexit negotiations...</td>\n",
       "      <td>@Elin012</td>\n",
       "    </tr>\n",
       "    <tr>\n",
       "      <th>8</th>\n",
       "      <td>RT @HackneyAbbott .@AmberRuddHR Heard you were...</td>\n",
       "      <td>@CaMrAn_12</td>\n",
       "    </tr>\n",
       "    <tr>\n",
       "      <th>9</th>\n",
       "      <td>RT @HackneyAbbott In tough Brexit negotiations...</td>\n",
       "      <td>@AFILLEMON</td>\n",
       "    </tr>\n",
       "    <tr>\n",
       "      <th>10</th>\n",
       "      <td>@YvetteCooperMP Nice one..</td>\n",
       "      <td>@spaceman_jamie</td>\n",
       "    </tr>\n",
       "    <tr>\n",
       "      <th>11</th>\n",
       "      <td>RT @joannaccherry Glorious day for a team #Che...</td>\n",
       "      <td>@conniepaterson</td>\n",
       "    </tr>\n",
       "    <tr>\n",
       "      <th>12</th>\n",
       "      <td>RT @joannaccherry The truth about foodbanks fr...</td>\n",
       "      <td>@IsThisAB0t</td>\n",
       "    </tr>\n",
       "    <tr>\n",
       "      <th>13</th>\n",
       "      <td>RT @HackneyAbbott .@AmberRuddHR Heard you were...</td>\n",
       "      <td>@GimmzAngolano</td>\n",
       "    </tr>\n",
       "    <tr>\n",
       "      <th>14</th>\n",
       "      <td>RT @paulmasonnews In that debate @CarolineLuca...</td>\n",
       "      <td>@tehard</td>\n",
       "    </tr>\n",
       "    <tr>\n",
       "      <th>15</th>\n",
       "      <td>@HackneyAbbott @AmberRuddHR You clearly missed...</td>\n",
       "      <td>@LeeB155</td>\n",
       "    </tr>\n",
       "    <tr>\n",
       "      <th>16</th>\n",
       "      <td>@SunApology @HackneyAbbott Abbott is labours b...</td>\n",
       "      <td>@funksoulHulk</td>\n",
       "    </tr>\n",
       "    <tr>\n",
       "      <th>17</th>\n",
       "      <td>@Stu_H @lachlanmoir @HackneyAbbott @AmberRuddH...</td>\n",
       "      <td>@MsJoNeary</td>\n",
       "    </tr>\n",
       "    <tr>\n",
       "      <th>18</th>\n",
       "      <td>RT @HackneyAbbott .@theresa_may claims she's s...</td>\n",
       "      <td>@A_mkn_</td>\n",
       "    </tr>\n",
       "    <tr>\n",
       "      <th>19</th>\n",
       "      <td>RT @HackneyAbbott .@AmberRuddHR Heard you were...</td>\n",
       "      <td>@longlostlohan</td>\n",
       "    </tr>\n",
       "  </tbody>\n",
       "</table>\n",
       "</div>"
      ],
      "text/plain": [
       "                                             Contents           Author\n",
       "0   Rudd goes in for a strong and stable photobomb...   @sharmilabousa\n",
       "1   RT @gareth13479 @AmberRuddHR gets the prize fo...        @deadpubs\n",
       "2   RT @TasminaSheikh Team @theSNP Auchterarder of...      @IsThisAB0t\n",
       "3   @LarmySausage @HackneyAbbott @JuliaHB1 @AmberR...       @MsJoNeary\n",
       "4   RT @BarbPitruz @TulipSiddiq brilliant as alway...    @RoxethMyLord\n",
       "5   @andrewj2009 no joke  no one is here to suppor...     @king_darran\n",
       "6   RT @HackneyAbbott In tough Brexit negotiations...      @AliMalik1x\n",
       "7   RT @HackneyAbbott In tough Brexit negotiations...         @Elin012\n",
       "8   RT @HackneyAbbott .@AmberRuddHR Heard you were...       @CaMrAn_12\n",
       "9   RT @HackneyAbbott In tough Brexit negotiations...       @AFILLEMON\n",
       "10                         @YvetteCooperMP Nice one..  @spaceman_jamie\n",
       "11  RT @joannaccherry Glorious day for a team #Che...  @conniepaterson\n",
       "12  RT @joannaccherry The truth about foodbanks fr...      @IsThisAB0t\n",
       "13  RT @HackneyAbbott .@AmberRuddHR Heard you were...   @GimmzAngolano\n",
       "14  RT @paulmasonnews In that debate @CarolineLuca...          @tehard\n",
       "15  @HackneyAbbott @AmberRuddHR You clearly missed...         @LeeB155\n",
       "16  @SunApology @HackneyAbbott Abbott is labours b...    @funksoulHulk\n",
       "17  @Stu_H @lachlanmoir @HackneyAbbott @AmberRuddH...       @MsJoNeary\n",
       "18  RT @HackneyAbbott .@theresa_may claims she's s...          @A_mkn_\n",
       "19  RT @HackneyAbbott .@AmberRuddHR Heard you were...   @longlostlohan"
      ]
     },
     "execution_count": 37,
     "metadata": {},
     "output_type": "execute_result"
    }
   ],
   "source": [
    "df[['Contents', 'Author']].head(20)"
   ]
  },
  {
   "cell_type": "code",
   "execution_count": null,
   "metadata": {
    "collapsed": true
   },
   "outputs": [],
   "source": []
  }
 ],
 "metadata": {
  "kernelspec": {
   "display_name": "Python 3",
   "language": "python",
   "name": "python3"
  },
  "language_info": {
   "codemirror_mode": {
    "name": "ipython",
    "version": 3
   },
   "file_extension": ".py",
   "mimetype": "text/x-python",
   "name": "python",
   "nbconvert_exporter": "python",
   "pygments_lexer": "ipython3",
   "version": "3.6.0"
  }
 },
 "nbformat": 4,
 "nbformat_minor": 2
}
