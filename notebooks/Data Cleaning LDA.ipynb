{
 "cells": [
  {
   "cell_type": "markdown",
   "metadata": {},
   "source": [
    "# Data Cleaning"
   ]
  },
  {
   "cell_type": "markdown",
   "metadata": {},
   "source": [
    "Having acquired the data, this notebook will clean and preprocess text and extract new metadata."
   ]
  },
  {
   "cell_type": "code",
   "execution_count": 1,
   "metadata": {
    "collapsed": true
   },
   "outputs": [],
   "source": [
    "import pandas as pd\n",
    "import numpy as np\n",
    "import re\n",
    "import pyLDAvis.sklearn\n",
    "from datetime import datetime as dt"
   ]
  },
  {
   "cell_type": "code",
   "execution_count": 2,
   "metadata": {
    "collapsed": true
   },
   "outputs": [],
   "source": [
    "df = pd.read_pickle('../data/interim/aggregated.pkl')"
   ]
  },
  {
   "cell_type": "markdown",
   "metadata": {},
   "source": [
    "The below shows lines we need to drop:"
   ]
  },
  {
   "cell_type": "code",
   "execution_count": 3,
   "metadata": {
    "collapsed": false
   },
   "outputs": [
    {
     "data": {
      "text/html": [
       "<div>\n",
       "<table border=\"1\" class=\"dataframe\">\n",
       "  <thead>\n",
       "    <tr style=\"text-align: right;\">\n",
       "      <th></th>\n",
       "      <th>GUID</th>\n",
       "      <th>Date (GMT)</th>\n",
       "      <th>URL</th>\n",
       "      <th>Contents</th>\n",
       "      <th>Author</th>\n",
       "      <th>Name</th>\n",
       "      <th>Country</th>\n",
       "      <th>State/Region</th>\n",
       "      <th>City/Urban Area</th>\n",
       "      <th>Category</th>\n",
       "      <th>Emotion</th>\n",
       "      <th>Source</th>\n",
       "      <th>Klout Score</th>\n",
       "      <th>Gender</th>\n",
       "      <th>Posts</th>\n",
       "      <th>Followers</th>\n",
       "      <th>Following</th>\n",
       "    </tr>\n",
       "  </thead>\n",
       "  <tbody>\n",
       "    <tr>\n",
       "      <th>2267654</th>\n",
       "      <td>817337076572102656</td>\n",
       "      <td>NaN</td>\n",
       "      <td>http://twitter.com/Solutionprovida/status/8173...</td>\n",
       "      <td>http://twitter.com/Solutionprovida/status/8173...</td>\n",
       "      <td>NaN</td>\n",
       "      <td>NaN</td>\n",
       "      <td>United Kingdom</td>\n",
       "      <td>North West</td>\n",
       "      <td>Liverpool</td>\n",
       "      <td>NaN</td>\n",
       "      <td>NaN</td>\n",
       "      <td>Twitter</td>\n",
       "      <td>51.0</td>\n",
       "      <td>M</td>\n",
       "      <td>NaN</td>\n",
       "      <td>NaN</td>\n",
       "      <td>NaN</td>\n",
       "    </tr>\n",
       "    <tr>\n",
       "      <th>2267655</th>\n",
       "      <td>817352877421248512</td>\n",
       "      <td>NaN</td>\n",
       "      <td>http://twitter.com/shaancheema/status/81735287...</td>\n",
       "      <td>http://twitter.com/shaancheema/status/81735287...</td>\n",
       "      <td>NaN</td>\n",
       "      <td>NaN</td>\n",
       "      <td>United Kingdom</td>\n",
       "      <td>Greater London</td>\n",
       "      <td>London</td>\n",
       "      <td>NaN</td>\n",
       "      <td>NaN</td>\n",
       "      <td>Twitter</td>\n",
       "      <td>53.0</td>\n",
       "      <td>NaN</td>\n",
       "      <td>NaN</td>\n",
       "      <td>NaN</td>\n",
       "      <td>NaN</td>\n",
       "    </tr>\n",
       "    <tr>\n",
       "      <th>2267656</th>\n",
       "      <td>817452492174790656</td>\n",
       "      <td>NaN</td>\n",
       "      <td>http://twitter.com/AWarwickThomps1/status/8174...</td>\n",
       "      <td>http://twitter.com/AWarwickThomps1/status/8174...</td>\n",
       "      <td>NaN</td>\n",
       "      <td>NaN</td>\n",
       "      <td>United Kingdom</td>\n",
       "      <td>NaN</td>\n",
       "      <td>NaN</td>\n",
       "      <td>NaN</td>\n",
       "      <td>NaN</td>\n",
       "      <td>Twitter</td>\n",
       "      <td>42.0</td>\n",
       "      <td>NaN</td>\n",
       "      <td>NaN</td>\n",
       "      <td>NaN</td>\n",
       "      <td>NaN</td>\n",
       "    </tr>\n",
       "    <tr>\n",
       "      <th>2267657</th>\n",
       "      <td>817330843609874432</td>\n",
       "      <td>NaN</td>\n",
       "      <td>http://twitter.com/martytechno1/status/8173308...</td>\n",
       "      <td>http://twitter.com/martytechno1/status/8173308...</td>\n",
       "      <td>NaN</td>\n",
       "      <td>NaN</td>\n",
       "      <td>NaN</td>\n",
       "      <td>NaN</td>\n",
       "      <td>NaN</td>\n",
       "      <td>NaN</td>\n",
       "      <td>NaN</td>\n",
       "      <td>Twitter</td>\n",
       "      <td>43.0</td>\n",
       "      <td>M</td>\n",
       "      <td>NaN</td>\n",
       "      <td>NaN</td>\n",
       "      <td>NaN</td>\n",
       "    </tr>\n",
       "    <tr>\n",
       "      <th>2267658</th>\n",
       "      <td>817494566832078848</td>\n",
       "      <td>NaN</td>\n",
       "      <td>http://twitter.com/achairukdpc/status/81749456...</td>\n",
       "      <td>http://twitter.com/achairukdpc/status/81749456...</td>\n",
       "      <td>NaN</td>\n",
       "      <td>NaN</td>\n",
       "      <td>United Kingdom</td>\n",
       "      <td>NaN</td>\n",
       "      <td>NaN</td>\n",
       "      <td>NaN</td>\n",
       "      <td>NaN</td>\n",
       "      <td>Twitter</td>\n",
       "      <td>35.0</td>\n",
       "      <td>F</td>\n",
       "      <td>NaN</td>\n",
       "      <td>NaN</td>\n",
       "      <td>NaN</td>\n",
       "    </tr>\n",
       "  </tbody>\n",
       "</table>\n",
       "</div>"
      ],
      "text/plain": [
       "                       GUID Date (GMT)  \\\n",
       "2267654  817337076572102656        NaN   \n",
       "2267655  817352877421248512        NaN   \n",
       "2267656  817452492174790656        NaN   \n",
       "2267657  817330843609874432        NaN   \n",
       "2267658  817494566832078848        NaN   \n",
       "\n",
       "                                                       URL  \\\n",
       "2267654  http://twitter.com/Solutionprovida/status/8173...   \n",
       "2267655  http://twitter.com/shaancheema/status/81735287...   \n",
       "2267656  http://twitter.com/AWarwickThomps1/status/8174...   \n",
       "2267657  http://twitter.com/martytechno1/status/8173308...   \n",
       "2267658  http://twitter.com/achairukdpc/status/81749456...   \n",
       "\n",
       "                                                  Contents Author Name  \\\n",
       "2267654  http://twitter.com/Solutionprovida/status/8173...    NaN  NaN   \n",
       "2267655  http://twitter.com/shaancheema/status/81735287...    NaN  NaN   \n",
       "2267656  http://twitter.com/AWarwickThomps1/status/8174...    NaN  NaN   \n",
       "2267657  http://twitter.com/martytechno1/status/8173308...    NaN  NaN   \n",
       "2267658  http://twitter.com/achairukdpc/status/81749456...    NaN  NaN   \n",
       "\n",
       "                Country    State/Region City/Urban Area  Category  Emotion  \\\n",
       "2267654  United Kingdom      North West       Liverpool       NaN      NaN   \n",
       "2267655  United Kingdom  Greater London          London       NaN      NaN   \n",
       "2267656  United Kingdom             NaN             NaN       NaN      NaN   \n",
       "2267657             NaN             NaN             NaN       NaN      NaN   \n",
       "2267658  United Kingdom             NaN             NaN       NaN      NaN   \n",
       "\n",
       "          Source  Klout Score Gender  Posts  Followers  Following  \n",
       "2267654  Twitter         51.0      M    NaN        NaN        NaN  \n",
       "2267655  Twitter         53.0    NaN    NaN        NaN        NaN  \n",
       "2267656  Twitter         42.0    NaN    NaN        NaN        NaN  \n",
       "2267657  Twitter         43.0      M    NaN        NaN        NaN  \n",
       "2267658  Twitter         35.0      F    NaN        NaN        NaN  "
      ]
     },
     "execution_count": 3,
     "metadata": {},
     "output_type": "execute_result"
    }
   ],
   "source": [
    "df.loc[df.Posts.isnull()].head()"
   ]
  },
  {
   "cell_type": "code",
   "execution_count": 4,
   "metadata": {
    "collapsed": true
   },
   "outputs": [],
   "source": [
    "from datetime import datetime\n",
    "from dateutil.parser import parse"
   ]
  },
  {
   "cell_type": "code",
   "execution_count": 5,
   "metadata": {
    "collapsed": true
   },
   "outputs": [],
   "source": [
    "def remove_handles(text):\n",
    "    return re.sub('@[^\\s]+','',text)\n",
    "\n",
    "def remove_hashtags(text):\n",
    "    return re.sub('#[^\\s]+',string=text,repl='')\n",
    "\n",
    "def remove_RT(text):\n",
    "    return re.sub('^RT ',string=text,repl='')\n",
    "\n",
    "def remove_url(text):\n",
    "    return re.sub('http[^\\s]+',string=text,repl='')\n",
    "\n",
    "def process_text(text):\n",
    "    return (remove_url(remove_RT(remove_hashtags(remove_handles(text))))).strip()\n",
    "\n",
    "def process_text_ht(text):\n",
    "    return (remove_url(remove_RT(remove_handles(text)))).strip()"
   ]
  },
  {
   "cell_type": "code",
   "execution_count": 6,
   "metadata": {
    "collapsed": false
   },
   "outputs": [],
   "source": [
    "df['StrippedHasHashtag'] = df['Contents'].map(process_text_ht)"
   ]
  },
  {
   "cell_type": "code",
   "execution_count": 7,
   "metadata": {
    "collapsed": false
   },
   "outputs": [
    {
     "ename": "TypeError",
     "evalue": "strptime() argument 1 must be str, not float",
     "output_type": "error",
     "traceback": [
      "\u001b[0;31m---------------------------------------------------------------------------\u001b[0m",
      "\u001b[0;31mTypeError\u001b[0m                                 Traceback (most recent call last)",
      "\u001b[0;32m<ipython-input-7-7528c689c1b7>\u001b[0m in \u001b[0;36m<module>\u001b[0;34m()\u001b[0m\n\u001b[0;32m----> 1\u001b[0;31m \u001b[0mdf\u001b[0m\u001b[1;33m[\u001b[0m\u001b[1;34m'Date (GMT)'\u001b[0m\u001b[1;33m]\u001b[0m \u001b[1;33m=\u001b[0m \u001b[0mdf\u001b[0m\u001b[1;33m[\u001b[0m\u001b[1;34m'Date (GMT)'\u001b[0m\u001b[1;33m]\u001b[0m\u001b[1;33m.\u001b[0m\u001b[0mmap\u001b[0m\u001b[1;33m(\u001b[0m\u001b[1;32mlambda\u001b[0m \u001b[0mx\u001b[0m \u001b[1;33m:\u001b[0m \u001b[0mdt\u001b[0m\u001b[1;33m.\u001b[0m\u001b[0mstrptime\u001b[0m\u001b[1;33m(\u001b[0m\u001b[0mx\u001b[0m\u001b[1;33m,\u001b[0m \u001b[1;34m'%d/%m/%Y %H:%M'\u001b[0m\u001b[1;33m)\u001b[0m\u001b[1;33m)\u001b[0m\u001b[1;33m\u001b[0m\u001b[0m\n\u001b[0m",
      "\u001b[0;32mC:\\Users\\philip.ball\\AppData\\Local\\Continuum\\Anaconda3\\lib\\site-packages\\pandas\\core\\series.py\u001b[0m in \u001b[0;36mmap\u001b[0;34m(self, arg, na_action)\u001b[0m\n\u001b[1;32m   2102\u001b[0m             \u001b[0mnew_values\u001b[0m \u001b[1;33m=\u001b[0m \u001b[0malgos\u001b[0m\u001b[1;33m.\u001b[0m\u001b[0mtake_1d\u001b[0m\u001b[1;33m(\u001b[0m\u001b[0marg\u001b[0m\u001b[1;33m.\u001b[0m\u001b[0m_values\u001b[0m\u001b[1;33m,\u001b[0m \u001b[0mindexer\u001b[0m\u001b[1;33m)\u001b[0m\u001b[1;33m\u001b[0m\u001b[0m\n\u001b[1;32m   2103\u001b[0m         \u001b[1;32melse\u001b[0m\u001b[1;33m:\u001b[0m\u001b[1;33m\u001b[0m\u001b[0m\n\u001b[0;32m-> 2104\u001b[0;31m             \u001b[0mnew_values\u001b[0m \u001b[1;33m=\u001b[0m \u001b[0mmap_f\u001b[0m\u001b[1;33m(\u001b[0m\u001b[0mvalues\u001b[0m\u001b[1;33m,\u001b[0m \u001b[0marg\u001b[0m\u001b[1;33m)\u001b[0m\u001b[1;33m\u001b[0m\u001b[0m\n\u001b[0m\u001b[1;32m   2105\u001b[0m \u001b[1;33m\u001b[0m\u001b[0m\n\u001b[1;32m   2106\u001b[0m         return self._constructor(new_values,\n",
      "\u001b[0;32mpandas\\src\\inference.pyx\u001b[0m in \u001b[0;36mpandas.lib.map_infer (pandas\\lib.c:62658)\u001b[0;34m()\u001b[0m\n",
      "\u001b[0;32m<ipython-input-7-7528c689c1b7>\u001b[0m in \u001b[0;36m<lambda>\u001b[0;34m(x)\u001b[0m\n\u001b[0;32m----> 1\u001b[0;31m \u001b[0mdf\u001b[0m\u001b[1;33m[\u001b[0m\u001b[1;34m'Date (GMT)'\u001b[0m\u001b[1;33m]\u001b[0m \u001b[1;33m=\u001b[0m \u001b[0mdf\u001b[0m\u001b[1;33m[\u001b[0m\u001b[1;34m'Date (GMT)'\u001b[0m\u001b[1;33m]\u001b[0m\u001b[1;33m.\u001b[0m\u001b[0mmap\u001b[0m\u001b[1;33m(\u001b[0m\u001b[1;32mlambda\u001b[0m \u001b[0mx\u001b[0m \u001b[1;33m:\u001b[0m \u001b[0mdt\u001b[0m\u001b[1;33m.\u001b[0m\u001b[0mstrptime\u001b[0m\u001b[1;33m(\u001b[0m\u001b[0mx\u001b[0m\u001b[1;33m,\u001b[0m \u001b[1;34m'%d/%m/%Y %H:%M'\u001b[0m\u001b[1;33m)\u001b[0m\u001b[1;33m)\u001b[0m\u001b[1;33m\u001b[0m\u001b[0m\n\u001b[0m",
      "\u001b[0;31mTypeError\u001b[0m: strptime() argument 1 must be str, not float"
     ]
    }
   ],
   "source": [
    "df['Date (GMT)'] = df['Date (GMT)'].map(lambda x : dt.strptime(x, '%d/%m/%Y %H:%M'))"
   ]
  },
  {
   "cell_type": "code",
   "execution_count": 9,
   "metadata": {
    "collapsed": false,
    "scrolled": false
   },
   "outputs": [
    {
     "name": "stdout",
     "output_type": "stream",
     "text": [
      "Extracting tf features for LDA...\n",
      "done in 1.641s.\n",
      "Max number of times a word appears in a sentence is 10, min is 0.\n",
      "\n",
      "Fitting LDA models with tf features, n_samples=10000 and n_features=5000...\n",
      "done in 167.603s.\n",
      "\n",
      "Topics in LDA model:\n",
      "Topic #0:\n",
      "great, today, labour, eu, campaign, ge2017, thanks, team, thank, campaigning\n",
      "Topic #1:\n",
      "uk, yemen, stoparmingsaudi, saudi, redlineforyemen, stop, stoparmingsaudi redlineforyemen, strong, post, tax\n",
      "Topic #2:\n",
      "parliament, proud, trump, just, commons, moment, speaker, welcome, racism, visit\n",
      "Topic #3:\n",
      "theresa, debate, rt, british, leader, pm, bbcdebate, vote, single, mps\n",
      "Topic #4:\n",
      "manifesto, just, cut, make, like, workers, does, oh, rights, words\n",
      "Topic #5:\n",
      "votesnp, ge17, support, schools, tories, did, want, labour, women, scotland\n",
      "Topic #6:\n",
      "labour, tory, don, party, vote, need, brexit, government, hope, right\n",
      "Topic #7:\n",
      "like, britain, day, left, world, power, 50, real, looks, city\n",
      "Topic #8:\n",
      "time, school, year, free, june, just, media, vote, young, meet\n",
      "Topic #9:\n",
      "nhs, care, home, tories, good, secretary, crisis, tory, social, education\n",
      "\n"
     ]
    }
   ],
   "source": [
    "# Author: Olivier Grisel <olivier.grisel@ensta.org>\n",
    "#         Lars Buitinck\n",
    "#         Chyi-Kwei Yau <chyikwei.yau@gmail.com>\n",
    "# License: BSD 3 clause\n",
    "\n",
    "from __future__ import print_function\n",
    "from time import time\n",
    "import re\n",
    "\n",
    "from sklearn.feature_extraction.text import TfidfVectorizer, CountVectorizer\n",
    "from sklearn.decomposition import NMF, LatentDirichletAllocation\n",
    "#from sklearn.datasets import fetch_20newsgroups\n",
    "import docx\n",
    "\n",
    "n_samples = 200\n",
    "n_features = 5000\n",
    "n_topics = 10\n",
    "n_top_words = 10\n",
    "\n",
    "def print_top_words(model, feature_names, n_top_words):\n",
    "    for topic_idx, topic in enumerate(model.components_):\n",
    "        print(\"Topic #%d:\" % topic_idx)\n",
    "        print(\", \".join([feature_names[i]\n",
    "                        for i in topic.argsort()[:-n_top_words - 1:-1]]))\n",
    "    print()\n",
    "\n",
    "\n",
    "# Load the 20 newsgroups dataset and vectorize it. We use a few heuristics\n",
    "# to filter out useless terms early on: the posts are stripped of headers,\n",
    "# footers and quoted replies, and common English words, words occurring in\n",
    "# only one document or in at least 95% of the documents are removed.\n",
    "\n",
    "# print(\"Loading dataset...\")\n",
    "# t0 = time()\n",
    "# dataset = fetch_20newsgroups(shuffle=True, random_state=1,\n",
    "#                              remove=('headers', 'footers', 'quotes'))\n",
    "# data_samples = dataset.data[:n_samples]\n",
    "# print(\"done in %0.3fs.\" % (time() - t0))\n",
    "\n",
    "data_samples = df_ge.StrippedHasHashtag.sample(n=10000,random_state=123)\n",
    "\n",
    "# Use tf (raw term count) features for LDA.\n",
    "print(\"Extracting tf features for LDA...\")\n",
    "tf_vectorizer = CountVectorizer(max_df=0.95, min_df = 2, max_features=n_features,\n",
    "                                stop_words='english',\n",
    "                               ngram_range = (1,2))\n",
    "t0 = time()\n",
    "tf = tf_vectorizer.fit_transform(data_samples)\n",
    "print(\"done in %0.3fs.\" % (time() - t0))\n",
    "\n",
    "print('Max number of times a word appears in a sentence is %d, min is %d.\\n' % (tf.A.max(),tf.A.min()))\n",
    "\n",
    "print(\"Fitting LDA models with tf features, \"\n",
    "      \"n_samples=%d and n_features=%d...\"\n",
    "      % (len(data_samples), n_features))\n",
    "lda = LatentDirichletAllocation(n_topics=n_topics, max_iter=50,\n",
    "                                learning_method='online',\n",
    "                                learning_offset=50.,\n",
    "                                random_state=0,doc_topic_prior = 0.001)\n",
    "t0 = time()\n",
    "lda.fit(tf)\n",
    "print(\"done in %0.3fs.\" % (time() - t0))\n",
    "\n",
    "print(\"\\nTopics in LDA model:\")\n",
    "tf_feature_names = tf_vectorizer.get_feature_names()\n",
    "print_top_words(lda, tf_feature_names, n_top_words)"
   ]
  },
  {
   "cell_type": "code",
   "execution_count": 11,
   "metadata": {
    "collapsed": false
   },
   "outputs": [
    {
     "data": {
      "text/html": [
       "\n",
       "<link rel=\"stylesheet\" type=\"text/css\" href=\"https://cdn.rawgit.com/bmabey/pyLDAvis/files/ldavis.v1.0.0.css\">\n",
       "\n",
       "\n",
       "<div id=\"ldavis_el1665610137580164762871082\"></div>\n",
       "<script type=\"text/javascript\">\n",
       "\n",
       "var ldavis_el1665610137580164762871082_data = {\"mdsDat\": {\"y\": [0.0013381104371315044, -0.029829511760842135, -0.006095867207389547, -0.002403601416891022, -0.020957423321930273, 0.3753575079768366, -0.02453887657760043, -0.0008637391933006196, -0.18474961559361208, -0.10725698334240194], \"Freq\": [15.007457527939708, 13.659233354517298, 12.059242695145551, 11.302260946059183, 9.830781235816508, 8.646193712659272, 8.347393681463295, 8.13118110729464, 6.904023127941768, 6.112232611162771], \"cluster\": [1, 1, 1, 1, 1, 1, 1, 1, 1, 1], \"topics\": [1, 2, 3, 4, 5, 6, 7, 8, 9, 10], \"x\": [-0.16225667158674573, -0.16638494326214645, -0.15084417984418957, -0.1132672310933005, -0.012946469280981834, 0.1403663013564662, -0.038437544282335236, 0.07625630885712993, 0.1796319152473436, 0.24788251388876004]}, \"plot.opts\": {\"xlab\": \"PC1\", \"ylab\": \"PC2\"}, \"lambda.step\": 0.01, \"tinfo\": {\"Freq\": [370.0, 310.0, 294.0, 350.0, 174.0, 247.0, 179.0, 149.0, 237.0, 238.0, 206.0, 175.0, 156.0, 393.0, 132.0, 181.0, 113.0, 263.0, 127.0, 196.0, 190.0, 163.0, 440.0, 136.0, 109.0, 341.0, 119.0, 102.0, 185.0, 115.0, 246.99693057585316, 108.41017210312934, 73.8957335763516, 62.37089556879444, 56.40901080778789, 52.90350154182119, 52.61494278612373, 45.679259688785834, 42.588409909477456, 39.610114801679394, 39.45398297234242, 38.720977004545674, 38.34829715276459, 37.87041974544162, 37.843236067269935, 37.578824396970845, 34.33546063973358, 33.1621227165876, 33.15326352294895, 32.81517555242436, 31.792553348493346, 31.53493838286722, 29.878337385346015, 29.71180654189947, 28.92581476184353, 28.73178184208668, 28.619540245765545, 28.579983557422775, 26.0955315180505, 25.969034366972792, 71.48452235869703, 75.38434116549841, 201.1192955703188, 172.1724665566709, 47.38609058286611, 98.79104512911263, 49.17659493641547, 100.04002905980177, 254.78837769775663, 122.80477421498138, 107.0164292627606, 266.7029836740717, 97.13174504086436, 153.2894047916272, 178.19526657019892, 93.25953082405982, 79.12976926631465, 94.5012114369848, 84.97474634586082, 74.30705768670174, 78.24784397500981, 61.716976480172285, 60.557905565097826, 87.26783654987382, 95.30074038162589, 71.83403526803785, 98.27386454561614, 70.9278664310706, 76.86437178864598, 78.52766449711638, 69.83247234676541, 174.21396498149343, 113.58708761370542, 85.2800710769352, 69.84703688173364, 60.2582799686985, 57.81748902989756, 50.70399732163443, 46.59089210947602, 45.92089335475375, 40.29747779718517, 38.167669944873936, 36.64857559415226, 33.531450907626095, 33.24197697390862, 31.7536046658241, 30.434086929317637, 29.838311753016715, 29.13922642220328, 28.974454792934736, 28.952619770550655, 28.48177681998231, 28.235906476143356, 28.022391798494542, 27.956562753628035, 27.3972901949188, 27.38341788298154, 26.47652626402233, 25.597513268925027, 24.602010381282156, 24.51746889344058, 168.56090864326006, 88.99137052610892, 263.9832370856316, 105.5365699948611, 247.6244340710431, 135.80783662196146, 101.27849531532655, 69.5241911032602, 83.90901232780868, 85.84577065061022, 85.18676068881194, 40.488533291215205, 51.4161102988032, 45.78406487225484, 99.31672485978008, 165.85939904899348, 227.21191751276004, 98.9587007849392, 51.01008066945429, 54.0364163205764, 81.80049962480344, 66.1197208852523, 85.90302723017977, 81.44284762745284, 76.49559030907311, 71.6870141603904, 58.134997619581206, 125.52105351958468, 94.83921819293639, 67.26566376438686, 65.72416192370203, 45.55639608367649, 41.4257001248324, 40.859830915860314, 38.259552721929566, 32.9373510979995, 32.746339307360714, 32.31275005853421, 31.95394407157109, 31.847792161977203, 30.919567332158984, 30.919567332158984, 30.919567332158984, 30.919567332158998, 30.919567332158984, 30.919567332158934, 30.919567332158984, 30.919567332158955, 30.91956733215898, 30.91956733215898, 30.919567332158984, 30.919567332158984, 30.919567332158984, 30.815633766417744, 30.551670647992015, 29.650228288196473, 29.169159209386713, 153.5547805873611, 182.3685661964421, 164.5182591306596, 122.2812800852949, 60.197583911075334, 77.99850078663302, 78.96781162149476, 48.76135699553471, 36.58349795464441, 98.16493039755706, 50.41239595675804, 59.85093088361792, 49.109753333109936, 158.91520895745495, 66.22359969729048, 103.19811963006211, 41.23009126540095, 89.6928059105101, 45.42104914063751, 134.25295823271256, 49.95876147920507, 46.51780505963506, 76.22469912518376, 73.30490340765112, 108.76042656422068, 62.716936461756866, 75.92327948851234, 67.86590834343919, 62.57320580532377, 65.77719461265642, 60.138824740526864, 53.743801071655454, 52.6651619490905, 56.55647550103057, 53.795294809154406, 310.02836502511406, 155.33442737553398, 135.20538777900455, 98.7186875455092, 72.58361731978314, 60.20939486298006, 55.168220035202054, 45.9026888691428, 43.655097982547304, 40.77160488776453, 38.44972628876015, 37.48685184829161, 36.56545262325872, 35.38884919612553, 34.62555812363908, 34.39593816737601, 33.02183603445405, 32.82226226777926, 32.666463433496034, 31.36864011873665, 30.304407848788884, 29.52917525258286, 28.401708611496815, 28.04362846159806, 27.400945869601106, 27.213965468492287, 26.751152403507348, 26.178492411392934, 26.023301666005537, 25.711427990038164, 91.16511193602106, 83.61237355406148, 61.05466821439063, 72.84175132271142, 44.71138724636077, 44.444629692910716, 41.01672732528965, 71.08709929910783, 103.33481981843673, 56.39558348143095, 108.1967396446564, 57.77801799054877, 86.77935360802164, 37.02316685506671, 53.81014040310697, 45.17647537042081, 48.00175352624043, 50.22643187006522, 50.26728368267382, 43.50092909718393, 45.64158468909156, 45.45491121038261, 41.97559230770743, 42.15450868091379, 74.37534094131367, 55.0699320308871, 54.69961248544333, 53.3627151101982, 50.48680199538096, 49.11737632929024, 42.531623981534814, 42.26114114853314, 40.30238734842658, 39.41567551286334, 38.921847594864985, 38.414334888976576, 38.13863138818231, 37.53902794528444, 37.53902794528445, 37.53902794528444, 37.53902794528447, 37.53902794528445, 37.53902794528445, 35.34529278495683, 35.25341530876119, 35.210912286227234, 34.219706901486134, 33.9004813684841, 33.22033541378144, 31.677308583719967, 28.166412073626613, 25.795299519475847, 24.333267522933724, 24.163611253841434, 72.34980004334146, 55.87508984235122, 118.43347810191047, 135.32560920369397, 54.810950723816426, 81.03820171495124, 79.37234301223565, 56.41432627196216, 97.46908889766257, 52.5061532039283, 56.51793597424998, 79.17590593124427, 68.58239452708696, 65.86910360862674, 63.665086458823914, 50.2791060087669, 56.5702847368712, 50.23130713622276, 41.10779712766379, 72.9946191785888, 52.179203584836074, 47.58575371696377, 45.03098689897282, 178.2942772143165, 132.06658777119634, 127.07507228295306, 118.32904082264281, 114.96504207868362, 104.82054231716683, 104.02097246720858, 103.52115595701343, 99.24967791621559, 98.84764087965739, 87.68099353685551, 86.31878781598475, 83.8893226425069, 80.92114909211351, 76.34720402705393, 76.33553976638557, 75.40217498495, 75.40217498494994, 75.40217498494997, 75.40217498494997, 75.40217498494997, 75.40217498494997, 75.40217498494997, 75.40217498494997, 75.40217498494997, 75.40217498494998, 75.40217498494997, 75.40217498495, 75.31957758052351, 75.31957758052351, 296.7649804585734, 100.94142475554294, 103.09406259119322, 137.5936138722149, 111.39632641559125, 101.95062154965045, 76.68044641034564, 59.49256618449681, 55.58943311218, 54.19656853231311, 48.14160020723186, 46.55584401923409, 44.857547339038184, 44.119401372580064, 41.45147819457256, 40.54753775669668, 39.27216708619029, 38.67349242709517, 38.31993238477024, 37.954131837841274, 37.28342969224773, 36.88949152153198, 36.82453682824247, 35.80720862729947, 34.99868053193185, 34.905295260233835, 33.99719845369575, 32.162369413537796, 31.226963906406986, 30.718613693575474, 30.330906528922068, 30.330906528921876, 30.3309065289218, 30.33090652892166, 30.330906528921542, 30.330906528921528, 55.312934310587586, 160.62736634716086, 120.72510485971026, 86.80251064361563, 83.14798977296158, 60.842789511260015, 40.50283707245918, 37.187070323810225, 41.85499243523367, 47.63832891407662, 71.2764123404034, 54.293521798423725, 60.76889472345778, 54.69910951492129, 54.641682383084955, 40.31295374456129, 37.99048152468886, 70.37005273354117, 68.5280027216702, 66.06778040243533, 58.88087201696015, 54.83947008785092, 50.97316592856387, 42.01044290208868, 41.221945907320865, 40.589740830499345, 40.12054266246828, 35.96962500202286, 34.49268958441321, 33.10762299939758, 30.100381985398283, 28.744127981585414, 27.861332917973126, 27.561968536717764, 27.106975348941084, 25.66348477043368, 24.243279061351487, 23.942707809135623, 23.70559091432898, 23.42105195088681, 22.49840092914141, 22.493450753456187, 22.00503495291017, 21.584422346421817, 21.544325305391148, 21.17225730573702, 20.659489064547106, 45.2870542344335, 78.1903089165893, 99.43986549429107, 33.49097219316402, 31.684034619407687, 63.81739702739036, 28.78586053846718, 39.28128510391584, 73.36356026921453, 47.1394657415236, 39.474700909469455, 31.809512580198913, 55.97831891186946, 81.94814444708226, 73.2075427376412, 42.297401942102795, 57.98006401579548, 57.68590046223773, 45.425375983172906, 40.37286340523433, 33.132177978932695, 174.09852409280808, 148.6540558416836, 108.8239241837168, 90.06682458435257, 89.4270604905565, 83.97665100378832, 78.1201561725086, 76.6178432629977, 72.66834509290406, 68.57710473990616, 66.97138837318636, 66.68356137236857, 64.17461368219001, 63.401109132669035, 63.35958578706758, 62.39198260130027, 62.39198260130031, 62.391982601300306, 62.39198260130027, 62.391982601300306, 62.39198260130023, 62.39198260130021, 62.39198260130025, 62.39198260130022, 61.779275072515084, 49.44722378894706, 44.58863926492744, 35.0391594536343, 31.17271488320608, 30.465029850204942, 77.75067101982656, 75.08451225255074, 83.48444394800954, 107.17958276714496, 51.137577362614124, 113.11403677343633, 102.00891947537738, 97.33843320968353, 89.58639792052817, 74.19057554374392, 45.224844423032145, 38.409415186313424, 38.0536850652767, 37.42019330991258, 35.708485747267275, 33.36287629082364, 33.36287629082363, 31.624760408282697, 30.169194081941107, 28.13809697328151, 25.093817751238596, 24.005988444302368, 23.86146169466855, 20.570049149222545, 20.311089828169152, 19.874739085413754, 19.74265436250802, 19.691627078227675, 18.88613476394781, 18.82750283384004, 18.827502833840022, 18.82750283384002, 18.77314556080213, 17.32462789365763, 17.22186998888946, 219.5949828687784, 79.52744111325865, 67.11245123978931, 32.0976043283118, 27.277322456042633, 33.0397876655185, 27.706836002043154, 43.90429067527973, 39.15736112315498, 22.13718657070167, 21.72724076453846, 30.071574371715442, 22.154235307354263, 22.3637487107222, 22.327748259792205], \"Category\": [\"Default\", \"Default\", \"Default\", \"Default\", \"Default\", \"Default\", \"Default\", \"Default\", \"Default\", \"Default\", \"Default\", \"Default\", \"Default\", \"Default\", \"Default\", \"Default\", \"Default\", \"Default\", \"Default\", \"Default\", \"Default\", \"Default\", \"Default\", \"Default\", \"Default\", \"Default\", \"Default\", \"Default\", \"Default\", \"Default\", \"Topic1\", \"Topic1\", \"Topic1\", \"Topic1\", \"Topic1\", \"Topic1\", \"Topic1\", \"Topic1\", \"Topic1\", \"Topic1\", \"Topic1\", \"Topic1\", \"Topic1\", \"Topic1\", \"Topic1\", \"Topic1\", \"Topic1\", \"Topic1\", \"Topic1\", \"Topic1\", \"Topic1\", \"Topic1\", \"Topic1\", \"Topic1\", \"Topic1\", \"Topic1\", \"Topic1\", \"Topic1\", \"Topic1\", \"Topic1\", \"Topic1\", \"Topic1\", \"Topic1\", \"Topic1\", \"Topic1\", \"Topic1\", \"Topic1\", \"Topic1\", \"Topic1\", \"Topic1\", \"Topic1\", \"Topic1\", \"Topic1\", \"Topic1\", \"Topic1\", \"Topic1\", \"Topic1\", \"Topic1\", \"Topic1\", \"Topic1\", \"Topic1\", \"Topic1\", \"Topic1\", \"Topic1\", \"Topic1\", \"Topic1\", \"Topic1\", \"Topic1\", \"Topic1\", \"Topic1\", \"Topic1\", \"Topic2\", \"Topic2\", \"Topic2\", \"Topic2\", \"Topic2\", \"Topic2\", \"Topic2\", \"Topic2\", \"Topic2\", \"Topic2\", \"Topic2\", \"Topic2\", \"Topic2\", \"Topic2\", \"Topic2\", \"Topic2\", \"Topic2\", \"Topic2\", \"Topic2\", \"Topic2\", \"Topic2\", \"Topic2\", \"Topic2\", \"Topic2\", \"Topic2\", \"Topic2\", \"Topic2\", \"Topic2\", \"Topic2\", \"Topic2\", \"Topic2\", \"Topic2\", \"Topic2\", \"Topic2\", \"Topic2\", \"Topic2\", \"Topic2\", \"Topic2\", \"Topic2\", \"Topic2\", \"Topic2\", \"Topic2\", \"Topic2\", \"Topic2\", \"Topic2\", \"Topic2\", \"Topic2\", \"Topic2\", \"Topic2\", \"Topic2\", \"Topic2\", \"Topic2\", \"Topic2\", \"Topic2\", \"Topic2\", \"Topic2\", \"Topic2\", \"Topic3\", \"Topic3\", \"Topic3\", \"Topic3\", \"Topic3\", \"Topic3\", \"Topic3\", \"Topic3\", \"Topic3\", \"Topic3\", \"Topic3\", \"Topic3\", \"Topic3\", \"Topic3\", \"Topic3\", \"Topic3\", \"Topic3\", \"Topic3\", \"Topic3\", \"Topic3\", \"Topic3\", \"Topic3\", \"Topic3\", \"Topic3\", \"Topic3\", \"Topic3\", \"Topic3\", \"Topic3\", \"Topic3\", \"Topic3\", \"Topic3\", \"Topic3\", \"Topic3\", \"Topic3\", \"Topic3\", \"Topic3\", \"Topic3\", \"Topic3\", \"Topic3\", \"Topic3\", \"Topic3\", \"Topic3\", \"Topic3\", \"Topic3\", \"Topic3\", \"Topic3\", \"Topic3\", \"Topic3\", \"Topic3\", \"Topic3\", \"Topic3\", \"Topic3\", \"Topic3\", \"Topic3\", \"Topic3\", \"Topic3\", \"Topic3\", \"Topic3\", \"Topic3\", \"Topic3\", \"Topic3\", \"Topic3\", \"Topic3\", \"Topic3\", \"Topic3\", \"Topic4\", \"Topic4\", \"Topic4\", \"Topic4\", \"Topic4\", \"Topic4\", \"Topic4\", \"Topic4\", \"Topic4\", \"Topic4\", \"Topic4\", \"Topic4\", \"Topic4\", \"Topic4\", \"Topic4\", \"Topic4\", \"Topic4\", \"Topic4\", \"Topic4\", \"Topic4\", \"Topic4\", \"Topic4\", \"Topic4\", \"Topic4\", \"Topic4\", \"Topic4\", \"Topic4\", \"Topic4\", \"Topic4\", \"Topic4\", \"Topic4\", \"Topic4\", \"Topic4\", \"Topic4\", \"Topic4\", \"Topic4\", \"Topic4\", \"Topic4\", \"Topic4\", \"Topic4\", \"Topic4\", \"Topic4\", \"Topic4\", \"Topic4\", \"Topic4\", \"Topic4\", \"Topic4\", \"Topic4\", \"Topic4\", \"Topic4\", \"Topic4\", \"Topic4\", \"Topic4\", \"Topic4\", \"Topic5\", \"Topic5\", \"Topic5\", \"Topic5\", \"Topic5\", \"Topic5\", \"Topic5\", \"Topic5\", \"Topic5\", \"Topic5\", \"Topic5\", \"Topic5\", \"Topic5\", \"Topic5\", \"Topic5\", \"Topic5\", \"Topic5\", \"Topic5\", \"Topic5\", \"Topic5\", \"Topic5\", \"Topic5\", \"Topic5\", \"Topic5\", \"Topic5\", \"Topic5\", \"Topic5\", \"Topic5\", \"Topic5\", \"Topic5\", \"Topic5\", \"Topic5\", \"Topic5\", \"Topic5\", \"Topic5\", \"Topic5\", \"Topic5\", \"Topic5\", \"Topic5\", \"Topic5\", \"Topic5\", \"Topic5\", \"Topic5\", \"Topic5\", \"Topic5\", \"Topic5\", \"Topic5\", \"Topic5\", \"Topic5\", \"Topic5\", \"Topic5\", \"Topic5\", \"Topic5\", \"Topic6\", \"Topic6\", \"Topic6\", \"Topic6\", \"Topic6\", \"Topic6\", \"Topic6\", \"Topic6\", \"Topic6\", \"Topic6\", \"Topic6\", \"Topic6\", \"Topic6\", \"Topic6\", \"Topic6\", \"Topic6\", \"Topic6\", \"Topic6\", \"Topic6\", \"Topic6\", \"Topic6\", \"Topic6\", \"Topic6\", \"Topic6\", \"Topic6\", \"Topic6\", \"Topic6\", \"Topic6\", \"Topic6\", \"Topic6\", \"Topic6\", \"Topic6\", \"Topic6\", \"Topic6\", \"Topic6\", \"Topic6\", \"Topic7\", \"Topic7\", \"Topic7\", \"Topic7\", \"Topic7\", \"Topic7\", \"Topic7\", \"Topic7\", \"Topic7\", \"Topic7\", \"Topic7\", \"Topic7\", \"Topic7\", \"Topic7\", \"Topic7\", \"Topic7\", \"Topic7\", \"Topic7\", \"Topic7\", \"Topic7\", \"Topic7\", \"Topic7\", \"Topic7\", \"Topic7\", \"Topic7\", \"Topic7\", \"Topic7\", \"Topic7\", \"Topic7\", \"Topic7\", \"Topic7\", \"Topic7\", \"Topic7\", \"Topic7\", \"Topic7\", \"Topic7\", \"Topic7\", \"Topic7\", \"Topic7\", \"Topic7\", \"Topic7\", \"Topic7\", \"Topic7\", \"Topic7\", \"Topic7\", \"Topic7\", \"Topic7\", \"Topic8\", \"Topic8\", \"Topic8\", \"Topic8\", \"Topic8\", \"Topic8\", \"Topic8\", \"Topic8\", \"Topic8\", \"Topic8\", \"Topic8\", \"Topic8\", \"Topic8\", \"Topic8\", \"Topic8\", \"Topic8\", \"Topic8\", \"Topic8\", \"Topic8\", \"Topic8\", \"Topic8\", \"Topic8\", \"Topic8\", \"Topic8\", \"Topic8\", \"Topic8\", \"Topic8\", \"Topic8\", \"Topic8\", \"Topic8\", \"Topic8\", \"Topic8\", \"Topic8\", \"Topic8\", \"Topic8\", \"Topic8\", \"Topic8\", \"Topic8\", \"Topic8\", \"Topic8\", \"Topic8\", \"Topic8\", \"Topic8\", \"Topic8\", \"Topic8\", \"Topic8\", \"Topic8\", \"Topic8\", \"Topic8\", \"Topic8\", \"Topic8\", \"Topic9\", \"Topic9\", \"Topic9\", \"Topic9\", \"Topic9\", \"Topic9\", \"Topic9\", \"Topic9\", \"Topic9\", \"Topic9\", \"Topic9\", \"Topic9\", \"Topic9\", \"Topic9\", \"Topic9\", \"Topic9\", \"Topic9\", \"Topic9\", \"Topic9\", \"Topic9\", \"Topic9\", \"Topic9\", \"Topic9\", \"Topic9\", \"Topic9\", \"Topic9\", \"Topic9\", \"Topic9\", \"Topic9\", \"Topic9\", \"Topic9\", \"Topic9\", \"Topic9\", \"Topic9\", \"Topic9\", \"Topic10\", \"Topic10\", \"Topic10\", \"Topic10\", \"Topic10\", \"Topic10\", \"Topic10\", \"Topic10\", \"Topic10\", \"Topic10\", \"Topic10\", \"Topic10\", \"Topic10\", \"Topic10\", \"Topic10\", \"Topic10\", \"Topic10\", \"Topic10\", \"Topic10\", \"Topic10\", \"Topic10\", \"Topic10\", \"Topic10\", \"Topic10\", \"Topic10\", \"Topic10\", \"Topic10\", \"Topic10\", \"Topic10\", \"Topic10\", \"Topic10\", \"Topic10\", \"Topic10\", \"Topic10\", \"Topic10\", \"Topic10\", \"Topic10\", \"Topic10\", \"Topic10\", \"Topic10\", \"Topic10\", \"Topic10\", \"Topic10\", \"Topic10\", \"Topic10\"], \"Total\": [370.0, 310.0, 294.0, 350.0, 174.0, 247.0, 179.0, 149.0, 237.0, 238.0, 206.0, 175.0, 156.0, 393.0, 132.0, 181.0, 113.0, 263.0, 127.0, 196.0, 190.0, 163.0, 440.0, 136.0, 109.0, 341.0, 119.0, 102.0, 185.0, 115.0, 247.84280239997287, 109.25604960400487, 74.74161335947097, 63.2167463097577, 57.25489268801286, 53.74943371761653, 53.46082927747603, 46.52509264173918, 43.43428841455494, 40.45596752081396, 40.29984071204039, 39.566923901818775, 39.19417260363566, 38.71627900288563, 38.68907624925357, 38.424717995730525, 35.18138607544844, 34.007936459564526, 33.999126764195566, 33.66097495196469, 32.638427765425725, 32.38075953163941, 30.724250698164738, 30.557643366794274, 29.771710217363875, 29.57765226246691, 29.465441567470098, 29.42587328546491, 26.941443124507558, 26.814930486124393, 76.29214240576873, 81.42230686669208, 263.24602589576494, 233.193686396494, 55.865913108719475, 152.2068473855275, 60.08630729843042, 157.22325361882466, 566.6574960066935, 209.37925312874387, 190.1588891098078, 742.8940166730049, 166.95302018733912, 330.7115174471612, 433.1820609386273, 180.04291045595215, 151.55985424691204, 214.88216416520874, 190.51360215229892, 146.94752565980662, 165.12049937900065, 108.0746536630852, 104.63534200498401, 291.3084295647626, 372.9528169953858, 175.7635698888765, 481.96196267598043, 173.56328634102601, 381.0996254077716, 440.5548525211778, 225.51361576178994, 175.06162492684138, 114.43470528397656, 86.12771296034856, 70.69470104840241, 61.105896816066554, 58.665175268082315, 51.551637711005256, 47.438544242552766, 46.76849355655188, 41.14510988672514, 39.01525310905951, 37.49628332873627, 34.37906013290926, 34.08961279827493, 32.60118740488327, 31.281772857789544, 30.68587895341727, 29.986841244785317, 29.822107027330116, 29.800255275100092, 29.32944906045647, 29.08361341942672, 28.8700608749667, 28.804260759997526, 28.244973869085776, 28.231108818921104, 27.324143924697836, 26.445154630727718, 25.449681244579967, 25.36510883936826, 190.56174248323455, 100.2312376405094, 350.0684759786207, 131.8964371561389, 393.87560760096886, 199.57957463521228, 139.80134700003737, 90.22228886142769, 114.94414208166825, 120.40322928487885, 123.73842088327847, 46.57003744204678, 64.29817803622414, 55.38056257242592, 167.00139187825081, 372.9528169953858, 742.8940166730049, 237.3053907908704, 74.50409476330687, 85.05756260518818, 225.51361576178994, 141.11032784568854, 281.07442540806414, 341.948226705799, 381.0996254077716, 291.3084295647626, 433.1820609386273, 126.36840061967352, 95.68645848477756, 68.1129656684267, 66.57134524095008, 46.403626996862634, 42.27299226264109, 41.70704643449762, 39.10677081159522, 33.784507085856525, 33.59352596410204, 33.160008859772354, 32.801090363096755, 32.694943948870296, 31.76671293708206, 31.76671293708207, 31.766712937082087, 31.766712937082094, 31.76671293708209, 31.766712937082044, 31.766712937082126, 31.7667129370821, 31.766712937082133, 31.76671293708214, 31.76671293708216, 31.76671293708217, 31.766712937082183, 31.662882566038096, 31.39886170245153, 30.49747158373438, 30.016376185450405, 163.54811408054124, 206.22142332191845, 196.3296797739869, 146.78173953119685, 71.10143641136268, 101.25074838064033, 104.22015290661751, 56.81967789315298, 39.40274877898128, 140.53653239302685, 59.981225117506895, 75.2653081201541, 59.6449287925047, 341.948226705799, 95.88070300166196, 198.85009345883248, 49.644401013071764, 170.83907759054267, 58.78055398735333, 481.96196267598043, 75.71384142695916, 66.51574409901951, 214.88216416520874, 230.05802926682642, 742.8940166730049, 173.56328634102601, 350.0684759786207, 381.0996254077716, 281.07442540806414, 372.9528169953858, 393.87560760096886, 199.57957463521228, 152.2068473855275, 433.1820609386273, 566.6574960066935, 310.8754860020715, 156.18150907760034, 136.05248766165425, 99.56576795519358, 73.43066888883494, 61.056469679271004, 56.01528792257684, 46.74974851532852, 44.50219661650245, 41.61870595016942, 39.29678357701289, 38.33393217936801, 37.41259721843467, 36.23591109854946, 35.47268619097524, 35.243208886073525, 33.86894935946233, 33.6693376683817, 33.51357462306537, 32.21575069917858, 31.15148246470952, 30.376289990737025, 29.248851821967214, 28.890750150680066, 28.24801190775899, 28.061000030472687, 27.598286446104563, 27.02552677089023, 26.870412300291722, 26.55853562724494, 97.91869955272796, 111.20858774685723, 81.0389479089416, 104.46645752788532, 56.618213945545634, 58.08532563075843, 53.09047968947261, 129.8082450070279, 291.3084295647626, 99.23699923308354, 481.96196267598043, 141.11032784568854, 566.6574960066935, 51.0911096912351, 233.193686396494, 115.8317944030808, 163.35435882561697, 209.37925312874387, 742.8940166730049, 214.88216416520874, 393.87560760096886, 372.9528169953858, 190.1588891098078, 440.5548525211778, 75.22350390391975, 55.91809152847279, 55.54778917206304, 54.21090680013357, 51.33496118898906, 49.96557711306227, 43.37990223928701, 43.1093966535878, 41.15051666071841, 40.263803649489816, 39.76999448220416, 39.2624657006925, 38.98691021788888, 38.387154890322414, 38.38715489032244, 38.387154890322435, 38.38715489032248, 38.38715489032247, 38.387154890322506, 36.193502157580134, 36.1015635941307, 36.059099473732545, 35.06795367351338, 34.74862840894572, 34.068534588088546, 32.52544594515293, 29.01466572393964, 26.643472184032532, 25.18151325546663, 25.0118377436621, 82.94558426496567, 63.4505338167603, 152.47154750256172, 181.5059208385595, 66.19993444874405, 111.86683040435739, 111.36655214592327, 72.05047394838878, 230.05802926682642, 76.04614355481641, 89.38616782144095, 178.78838933419397, 163.00430688566178, 150.86245492959202, 163.35435882561697, 85.09261810246173, 119.33839260953964, 89.0180418051339, 49.52633753685781, 433.1820609386273, 180.04291045595215, 566.6574960066935, 294.15046501705126, 179.14213798793003, 132.91443236395, 127.92288103475865, 119.1768665522101, 115.81287471000984, 105.6683232596067, 104.8688096647919, 104.36894127639611, 100.09745260092099, 99.69542421030839, 88.52876809277845, 87.16659461007038, 84.73709672974452, 81.76892568644291, 77.19497106008839, 77.18330757424846, 76.24994201008889, 76.24994201008887, 76.2499420100889, 76.2499420100889, 76.24994201008889, 76.24994201008889, 76.24994201008893, 76.24994201008893, 76.24994201008892, 76.24994201008896, 76.24994201008894, 76.24994201008899, 76.16734460566238, 76.16734460566241, 370.7270662872161, 107.29477516117073, 132.60009464089018, 237.3053907908704, 160.494741659861, 209.31142614816454, 77.52869754878981, 60.340505181423254, 56.437382338467174, 55.04449324327806, 48.9894946093116, 47.40379409646895, 45.70545196864256, 44.967275853059476, 42.29935188874351, 41.39544000707526, 40.12010545785195, 39.521369010725614, 39.16782601504009, 38.80209871163548, 38.131368177798045, 37.73737385940274, 37.67241324278496, 36.65507898340779, 35.84665247821992, 35.753165417591966, 34.84507666636014, 33.0102390929965, 32.07486265414774, 31.566538565531797, 31.178775787725556, 31.17877578772555, 31.178775787725503, 31.17877578772552, 31.178775787725527, 31.178775787725584, 61.69700713790493, 238.7479675187799, 185.1328365607202, 124.54221220416098, 134.52125292008844, 98.87625618987764, 51.111375727568294, 44.21869266001413, 56.85977433375529, 104.88869285705498, 440.5548525211778, 178.5693813447018, 433.1820609386273, 381.0996254077716, 566.6574960066935, 230.05802926682642, 157.74160965762863, 71.21909627144302, 69.37708238639905, 66.91683095400788, 59.73000120801914, 55.68854153402575, 51.82232452073141, 42.859524047982745, 42.07103666962215, 41.4388308045659, 40.96963905307807, 36.818631845682845, 35.341750016646294, 33.95669457197366, 30.949454198522123, 29.59322966754469, 28.7103828480328, 28.411072710326575, 27.956038639791696, 26.512530390808646, 25.092435615008153, 24.79174957817696, 24.554615981746743, 24.270106780549966, 23.347474835119, 23.34249721184853, 22.854056825037905, 22.433486343171953, 22.393427560971073, 22.021315180045722, 21.50855656293593, 52.948787432494235, 105.70176685014717, 157.74160965762863, 39.46375735913646, 38.326959304922966, 113.47061228254819, 34.81337406965063, 59.06783695693378, 175.7635698888765, 91.89232470530438, 66.37020667138351, 43.404617762017736, 165.12049937900065, 440.5548525211778, 370.7270662872161, 92.83925147101183, 381.0996254077716, 481.96196267598043, 181.5059208385595, 238.7479675187799, 56.2999113420717, 174.94834854921746, 149.50387647941392, 109.67370403903547, 90.91660086431565, 90.27682718981607, 84.82641595035375, 78.96992402352896, 77.46768183824756, 73.51809952613003, 69.4268711221629, 67.8211420149794, 67.53339852309279, 65.02436219373365, 64.2508573112503, 64.20933385899171, 63.24173056690799, 63.241730566908046, 63.241730566908025, 63.241730566908, 63.24173056690804, 63.24173056690799, 63.24173056690799, 63.24173056690805, 63.24173056690802, 62.62908571159104, 50.29708444497274, 45.43844361851593, 35.88897436750517, 32.022534464942844, 31.314944283472535, 87.75004698667827, 93.10094742385843, 110.55729424563987, 440.5548525211778, 341.948226705799, 113.96526784238723, 102.86014781019267, 98.18967540311812, 90.43762635100654, 75.0418043018251, 46.07615428057345, 39.26072016961523, 38.90493298352923, 38.271434851887925, 36.55971977322055, 34.2141315148746, 34.2141315148746, 32.47599156555878, 31.02043393398067, 28.98940546419744, 25.945143773366908, 24.857318430315026, 24.71276214655517, 21.42132503405029, 21.162372979143242, 20.726102212740738, 20.593939722575236, 20.542880772432934, 19.737480296642033, 19.67872985968357, 19.678729859683607, 19.678729859683674, 19.62440420218176, 18.17602213948394, 18.073194056652287, 294.15046501705126, 125.90245775004672, 103.86173933653757, 41.66986365318071, 35.45836687238107, 53.34878298331446, 42.28136433030888, 115.8317944030808, 113.47061228254819, 27.356776105761654, 27.79686997000036, 111.86683040435739, 33.211121852538, 61.15682288458363, 67.93202778197525], \"loglift\": [30.0, 29.0, 28.0, 27.0, 26.0, 25.0, 24.0, 23.0, 22.0, 21.0, 20.0, 19.0, 18.0, 17.0, 16.0, 15.0, 14.0, 13.0, 12.0, 11.0, 10.0, 9.0, 8.0, 7.0, 6.0, 5.0, 4.0, 3.0, 2.0, 1.0, 1.8932, 1.8889, 1.8852, 1.8832, 1.8817, 1.8808, 1.8807, 1.8783, 1.877, 1.8755, 1.8754, 1.875, 1.8748, 1.8745, 1.8745, 1.8744, 1.8723, 1.8714, 1.8714, 1.8712, 1.8704, 1.8702, 1.8687, 1.8686, 1.8678, 1.8676, 1.8675, 1.8675, 1.8647, 1.8646, 1.8315, 1.8196, 1.6274, 1.5933, 1.732, 1.4644, 1.6963, 1.4445, 1.0973, 1.3631, 1.3217, 0.8722, 1.355, 1.1277, 1.0083, 1.2388, 1.2467, 1.0751, 1.0893, 1.2148, 1.1498, 1.3364, 1.3497, 0.6912, 0.5322, 1.0018, 0.3065, 1.0017, 0.2956, 0.172, 0.7243, 1.9859, 1.9833, 1.9809, 1.9787, 1.9768, 1.9762, 1.9742, 1.9727, 1.9725, 1.9699, 1.9688, 1.9679, 1.9658, 1.9656, 1.9644, 1.9633, 1.9627, 1.9621, 1.9619, 1.9619, 1.9614, 1.9612, 1.961, 1.9609, 1.9603, 1.9603, 1.9592, 1.9582, 1.9569, 1.9568, 1.8681, 1.8718, 1.7085, 1.7678, 1.5266, 1.6058, 1.6684, 1.7302, 1.676, 1.6525, 1.6174, 1.8508, 1.7672, 1.8005, 1.4711, 1.1804, 0.8061, 1.1161, 1.6119, 1.5371, 0.9767, 1.2327, 0.8054, 0.556, 0.3849, 0.5887, -0.0176, 2.1086, 2.1064, 2.1028, 2.1025, 2.0969, 2.0951, 2.0948, 2.0934, 2.0899, 2.0898, 2.0895, 2.0892, 2.0891, 2.0883, 2.0883, 2.0883, 2.0883, 2.0883, 2.0883, 2.0883, 2.0883, 2.0883, 2.0883, 2.0883, 2.0883, 2.0883, 2.0882, 2.088, 2.0872, 2.0867, 2.0523, 1.9924, 1.9386, 1.9327, 1.9489, 1.8544, 1.8379, 1.9624, 2.0411, 1.7565, 1.9415, 1.8862, 1.921, 1.3491, 1.7453, 1.4594, 1.9296, 1.471, 1.8575, 0.8372, 1.6996, 1.7577, 1.0789, 0.9716, 0.1939, 1.0974, 0.5869, 0.3898, 0.6131, 0.3802, 0.236, 0.8034, 1.0541, 0.0794, -0.2392, 2.1774, 2.1747, 2.1739, 2.1716, 2.1686, 2.1662, 2.1649, 2.1619, 2.1609, 2.1596, 2.1584, 2.1578, 2.1573, 2.1565, 2.156, 2.1558, 2.1548, 2.1547, 2.1546, 2.1535, 2.1526, 2.1519, 2.1508, 2.1504, 2.1497, 2.1495, 2.149, 2.1483, 2.1481, 2.1478, 2.1087, 1.895, 1.897, 1.8196, 1.9441, 1.9125, 1.9221, 1.578, 1.1438, 1.615, 0.6863, 1.2872, 0.3038, 1.8581, 0.7138, 1.2386, 0.9555, 0.7526, -0.513, 0.5829, 0.025, 0.0754, 0.6694, -0.1665, 2.3083, 2.3044, 2.3043, 2.3039, 2.303, 2.3025, 2.2999, 2.2998, 2.2988, 2.2984, 2.2981, 2.2978, 2.2977, 2.2973, 2.2973, 2.2973, 2.2973, 2.2973, 2.2973, 2.2959, 2.2959, 2.2958, 2.2952, 2.2949, 2.2944, 2.2932, 2.29, 2.2873, 2.2854, 2.2852, 2.183, 2.1925, 2.067, 2.026, 2.1309, 1.9973, 1.981, 2.075, 1.4609, 1.9492, 1.8612, 1.5051, 1.4539, 1.491, 1.3774, 1.7935, 1.5732, 1.7475, 2.1333, 0.5389, 1.0811, -0.1576, 0.4429, 2.4433, 2.4417, 2.4414, 2.4409, 2.4407, 2.44, 2.4399, 2.4399, 2.4395, 2.4395, 2.4384, 2.4383, 2.438, 2.4376, 2.437, 2.437, 2.4369, 2.4369, 2.4369, 2.4369, 2.4369, 2.4369, 2.4369, 2.4369, 2.4369, 2.4369, 2.4369, 2.4369, 2.4369, 2.4369, 2.2255, 2.387, 2.1964, 1.903, 2.0829, 1.7287, 2.4722, 2.4691, 2.4681, 2.4677, 2.4658, 2.4652, 2.4645, 2.4642, 2.463, 2.4625, 2.4619, 2.4615, 2.4613, 2.4611, 2.4607, 2.4605, 2.4605, 2.4598, 2.4593, 2.4592, 2.4586, 2.4572, 2.4564, 2.456, 2.4557, 2.4557, 2.4557, 2.4557, 2.4557, 2.4557, 2.374, 2.0869, 2.0557, 2.1222, 2.0021, 1.9976, 2.2506, 2.31, 2.1768, 1.694, 0.6618, 1.2926, 0.5191, 0.542, 0.1443, 0.7416, 1.0596, 2.4975, 2.4971, 2.4967, 2.4951, 2.4941, 2.4929, 2.4895, 2.4891, 2.4888, 2.4885, 2.4861, 2.4851, 2.4841, 2.4816, 2.4804, 2.4794, 2.4791, 2.4786, 2.4769, 2.475, 2.4746, 2.4743, 2.4739, 2.4724, 2.4724, 2.4716, 2.4709, 2.4708, 2.4701, 2.4692, 2.3532, 2.208, 2.0481, 2.3454, 2.3191, 1.9339, 2.3193, 2.1015, 1.6358, 1.842, 1.9899, 2.1987, 1.4278, 0.8275, 0.8873, 1.7233, 0.6265, 0.3866, 1.1242, 0.7322, 1.9793, 2.6682, 2.6674, 2.6653, 2.6637, 2.6636, 2.663, 2.6622, 2.662, 2.6614, 2.6608, 2.6605, 2.6604, 2.6599, 2.6598, 2.6597, 2.6595, 2.6595, 2.6595, 2.6595, 2.6595, 2.6595, 2.6595, 2.6595, 2.6595, 2.6594, 2.656, 2.6542, 2.6491, 2.6462, 2.6455, 2.5521, 2.458, 2.3922, 1.2595, 0.7729, 2.7874, 2.7866, 2.7862, 2.7854, 2.7835, 2.7762, 2.773, 2.7728, 2.7724, 2.7713, 2.7697, 2.7697, 2.7683, 2.7671, 2.7651, 2.7615, 2.76, 2.7598, 2.7543, 2.7538, 2.7529, 2.7527, 2.7526, 2.7508, 2.7507, 2.7507, 2.7507, 2.7505, 2.7469, 2.7466, 2.5026, 2.3355, 2.3582, 2.5339, 2.5326, 2.3157, 2.3722, 1.8248, 1.7309, 2.5832, 2.5485, 1.4811, 2.39, 1.7889, 1.6822], \"Term\": [\"like\", \"nhs\", \"uk\", \"great\", \"parliament\", \"don\", \"britain\", \"proud\", \"day\", \"time\", \"votesnp\", \"eu\", \"care\", \"today\", \"left\", \"theresa\", \"yemen\", \"party\", \"world\", \"ge17\", \"campaign\", \"schools\", \"just\", \"home\", \"trump\", \"support\", \"power\", \"stoparmingsaudi\", \"school\", \"50\", \"don\", \"hope\", \"believe\", \"sure\", \"policies\", \"face\", \"tory cuts\", \"labour party\", \"reality\", \"anti\", \"truth\", \"tory government\", \"listen\", \"immigration\", \"gets\", \"candidates\", \"bad\", \"general election\", \"ppl\", \"register\", \"hey\", \"class\", \"listening\", \"facts\", \"head\", \"politicians\", \"safe\", \"explain\", \"lies\", \"black\", \"doesn\", \"deal\", \"party\", \"need\", \"constituents\", \"hard\", \"isn\", \"know\", \"tory\", \"government\", \"right\", \"labour\", \"say\", \"brexit\", \"vote\", \"think\", \"new\", \"cuts\", \"says\", \"let\", \"work\", \"country\", \"won\", \"good\", \"ge2017\", \"make\", \"tories\", \"govt\", \"people\", \"just\", \"election\", \"eu\", \"team\", \"fantastic\", \"tomorrow\", \"looking\", \"lovely\", \"manchester\", \"members\", \"forward\", \"car\", \"afternoon\", \"speak\", \"east\", \"forthemany\", \"looking forward\", \"pro\", \"wirral\", \"delighted\", \"supporters\", \"bus\", \"friends\", \"food\", \"issues\", \"plans\", \"pension\", \"100\", \"citizens\", \"investment\", \"represent\", \"message\", \"campaign\", \"leave\", \"great\", \"thank\", \"today\", \"thanks\", \"campaigning\", \"000\", \"voting\", \"labourdoorstep\", \"voters\", \"huge\", \"launch\", \"gone\", \"votelabour\", \"ge2017\", \"labour\", \"day\", \"green\", \"join\", \"election\", \"local\", \"mp\", \"support\", \"people\", \"good\", \"vote\", \"did\", \"morning\", \"westminster\", \"waspi\", \"speaking\", \"taking\", \"event\", \"vote labour\", \"opens\", \"grammar\", \"important\", \"inter\", \"int\", \"lawless\", \"murderous sadist\", \"sadist\", \"report inter\", \"lawless amnesty\", \"int report\", \"govt murderous\", \"murderous\", \"society opens\", \"sadist lawless\", \"amnesty\", \"amnesty int\", \"inter society\", \"benefits\", \"turnout\", \"rt agree\", \"austerity\", \"schools\", \"votesnp\", \"ge17\", \"want\", \"brilliant\", \"standing\", \"snp\", \"ge17 votesnp\", \"lot\", \"scotland\", \"budget\", \"response\", \"fighting\", \"support\", \"agree\", \"women\", \"society\", \"help\", \"report\", \"tories\", \"candidate\", \"answer\", \"cuts\", \"rt\", \"labour\", \"govt\", \"great\", \"people\", \"mp\", \"ge2017\", \"today\", \"thanks\", \"hard\", \"vote\", \"tory\", \"nhs\", \"care\", \"home\", \"secretary\", \"social care\", \"shadow\", \"home secretary\", \"luck\", \"idea\", \"shocking\", \"good luck\", \"rape\", \"tv\", \"hunt\", \"failure\", \"massive\", \"using\", \"fallon\", \"ealing\", \"makes\", \"waiting\", \"problem\", \"true\", \"michael\", \"hunting\", \"local elections\", \"high\", \"shadow home\", \"person\", \"votelabour ge2017\", \"crisis\", \"social\", \"health\", \"education\", \"action\", \"clear\", \"elections\", \"marr\", \"good\", \"pay\", \"tories\", \"local\", \"tory\", \"seen\", \"need\", \"tax\", \"public\", \"government\", \"labour\", \"cuts\", \"today\", \"ge2017\", \"right\", \"just\", \"bbcdebate\", \"heard\", \"market\", \"hit\", \"refugees\", \"sign\", \"shame\", \"hi\", \"leaders debate\", \"british public\", \"single market\", \"respects\", \"generalelection\", \"heard asking\", \"leader respects\", \"debate leader\", \"respects british\", \"asking leaders\", \"public bbcdebate\", \"ago\", \"rule\", \"answers\", \"days\", \"dubs\", \"hate\", \"child refugees\", \"2017\", \"jeremy corbyn\", \"led\", \"including\", \"single\", \"leaders\", \"debate\", \"theresa\", \"pmqs\", \"british\", \"leader\", \"bbc\", \"rt\", \"asking\", \"got\", \"pm\", \"mps\", \"corbyn\", \"public\", \"news\", \"voted\", \"child\", \"democracy\", \"vote\", \"think\", \"tory\", \"uk\", \"britain\", \"left\", \"world\", \"power\", \"50\", \"looks\", \"city\", \"biafra\", \"looks like\", \"nigeria\", \"edl\", \"nearly\", \"secret\", \"hidden\", \"biafra hidden\", \"brummy\", \"real brummy\", \"left edl\", \"like power\", \"migrated day\", \"day city\", \"edl migrated\", \"assimilate\", \"failed assimilate\", \"brummy left\", \"power real\", \"city failed\", \"migrated\", \"hidden world\", \"secret biafra\", \"like\", \"failed\", \"better\", \"day\", \"real\", \"years\", \"june\", \"young\", \"meet\", \"17\", \"8th\", \"open\", \"meals\", \"olds\", \"year olds\", \"agreed\", \"reading\", \"urged\", \"school meals\", \"conservatives\", \"abuse\", \"free school\", \"june 8th\", \"17 year\", \"evidence\", \"16 17\", \"vote june\", \"olds vote\", \"lib\", \"discuss\", \"urged prime\", \"8th agreed\", \"ministers 16\", \"prime ministers\", \"agreed rt\", \"just urged\", \"16\", \"time\", \"school\", \"year\", \"free\", \"media\", \"ministers\", \"prime\", \"getting\", \"politics\", \"just\", \"children\", \"vote\", \"people\", \"tory\", \"rt\", \"manifesto\", \"workers\", \"does\", \"oh\", \"words\", \"services\", \"diane\", \"community\", \"dear\", \"spending\", \"having\", \"workers rights\", \"case\", \"nice\", \"mention\", \"pleased\", \"aren\", \"met\", \"wish\", \"lie\", \"press\", \"wait\", \"mental\", \"coalition\", \"exactly\", \"fake\", \"blocked\", \"difference\", \"forced\", \"patients\", \"labour manifesto\", \"ask\", \"cut\", \"manifesto\", \"told\", \"nurses\", \"rights\", \"abbott\", \"pledge\", \"make\", \"money\", \"staff\", \"tweet\", \"work\", \"just\", \"like\", \"watch\", \"people\", \"tories\", \"theresa\", \"time\", \"use\", \"parliament\", \"proud\", \"trump\", \"commons\", \"moment\", \"speaker\", \"racism\", \"job\", \"bercow\", \"cancelled\", \"sexism\", \"yes\", \"racism sexism\", \"bercow just\", \"trump visit\", \"speaker bercow\", \"sexism welcome\", \"commons racism\", \"cancelled trump\", \"just cancelled\", \"parliament proud\", \"visit parliament\", \"proud moment\", \"moment commons\", \"live\", \"far\", \"control\", \"statement\", \"investigation\", \"opposition\", \"visit\", \"way\", \"welcome\", \"just\", \"support\", \"yemen\", \"stoparmingsaudi\", \"saudi\", \"redlineforyemen\", \"stoparmingsaudi redlineforyemen\", \"post\", \"justice\", \"human\", \"arabia\", \"saudi arabia\", \"stable\", \"strong stable\", \"yemen stoparmingsaudi\", \"human rights\", \"cap\", \"international\", \"hackney\", \"demand\", \"consultation\", \"terrorism\", \"falling\", \"helping\", \"climate\", \"twitter\", \"warcrimes yemen\", \"saudi warcrimes\", \"warcrimes\", \"level\", \"apparently\", \"gender\", \"uk\", \"stop\", \"strong\", \"pls\", \"used\", \"act\", \"little\", \"tax\", \"rights\", \"dementiatax\", \"energy\", \"british\", \"pensions\", \"gov\", \"supporting\"], \"logprob\": [30.0, 29.0, 28.0, 27.0, 26.0, 25.0, 24.0, 23.0, 22.0, 21.0, 20.0, 19.0, 18.0, 17.0, 16.0, 15.0, 14.0, 13.0, 12.0, 11.0, 10.0, 9.0, 8.0, 7.0, 6.0, 5.0, 4.0, 3.0, 2.0, 1.0, -3.9735, -4.7969, -5.1802, -5.3498, -5.4502, -5.5144, -5.5199, -5.6612, -5.7313, -5.8038, -5.8077, -5.8265, -5.8361, -5.8487, -5.8494, -5.8564, -5.9467, -5.9814, -5.9817, -5.992, -6.0236, -6.0318, -6.0857, -6.0913, -6.1181, -6.1248, -6.1288, -6.1301, -6.2211, -6.2259, -5.2134, -5.1603, -4.179, -4.3344, -5.6245, -4.8898, -5.5874, -4.8773, -3.9424, -4.6723, -4.8099, -3.8967, -4.9068, -4.4505, -4.3, -4.9475, -5.1118, -4.9342, -5.0405, -5.1746, -5.123, -5.3603, -5.3793, -5.0139, -4.9258, -5.2085, -4.8951, -5.2212, -5.1408, -5.1194, -5.2368, -4.2284, -4.6561, -4.9428, -5.1424, -5.2901, -5.3314, -5.4627, -5.5473, -5.5618, -5.6924, -5.7467, -5.7873, -5.8762, -5.8849, -5.9307, -5.9732, -5.9929, -6.0166, -6.0223, -6.0231, -6.0395, -6.0481, -6.0557, -6.0581, -6.0783, -6.0788, -6.1125, -6.1462, -6.1859, -6.1893, -4.2614, -4.9002, -3.8128, -4.7297, -3.8768, -4.4775, -4.7708, -5.147, -4.959, -4.9362, -4.9439, -5.6877, -5.4488, -5.5648, -4.7904, -4.2776, -3.9628, -4.794, -5.4567, -5.3991, -4.9844, -5.1973, -4.9355, -4.9888, -5.0515, -5.1164, -5.326, -4.4317, -4.712, -5.0555, -5.0787, -5.4452, -5.5402, -5.554, -5.6197, -5.7695, -5.7753, -5.7887, -5.7998, -5.8032, -5.8327, -5.8327, -5.8327, -5.8327, -5.8327, -5.8327, -5.8327, -5.8327, -5.8327, -5.8327, -5.8327, -5.8327, -5.8327, -5.8361, -5.8447, -5.8747, -5.891, -4.2301, -4.0581, -4.1611, -4.4578, -5.1665, -4.9074, -4.8951, -5.3772, -5.6645, -4.6775, -5.3439, -5.1723, -5.3701, -4.1958, -5.0711, -4.6275, -5.545, -4.7677, -5.4482, -4.3644, -5.3529, -5.4243, -4.9304, -4.9695, -4.575, -5.1255, -4.9344, -5.0466, -5.1278, -5.0779, -5.1675, -5.2799, -5.3002, -5.2289, -5.2789, -3.4626, -4.1537, -4.2925, -4.607, -4.9146, -5.1015, -5.1889, -5.3728, -5.423, -5.4913, -5.55, -5.5753, -5.6002, -5.6329, -5.6547, -5.6614, -5.7021, -5.7082, -5.713, -5.7535, -5.788, -5.8139, -5.8529, -5.8655, -5.8887, -5.8956, -5.9127, -5.9344, -5.9403, -5.9524, -4.6866, -4.7731, -5.0875, -4.911, -5.3991, -5.4051, -5.4853, -4.9354, -4.5613, -5.1669, -4.5154, -5.1427, -4.7359, -5.5878, -5.2138, -5.3887, -5.3281, -5.2828, -5.282, -5.4265, -5.3785, -5.3826, -5.4622, -5.458, -4.7507, -5.0512, -5.058, -5.0827, -5.1381, -5.1656, -5.3096, -5.316, -5.3634, -5.3857, -5.3983, -5.4114, -5.4186, -5.4344, -5.4344, -5.4344, -5.4344, -5.4344, -5.4344, -5.4947, -5.4973, -5.4985, -5.527, -5.5364, -5.5567, -5.6042, -5.7217, -5.8096, -5.868, -5.875, -4.7783, -5.0367, -4.2855, -4.1521, -5.0559, -4.6649, -4.6857, -5.0271, -4.4803, -5.0989, -5.0253, -4.6882, -4.8318, -4.8722, -4.9062, -5.1422, -5.0243, -5.1432, -5.3436, -4.7694, -5.1051, -5.1973, -5.2525, -3.748, -4.0481, -4.0866, -4.158, -4.1868, -4.2792, -4.2868, -4.2916, -4.3338, -4.3378, -4.4577, -4.4734, -4.5019, -4.5379, -4.5961, -4.5963, -4.6086, -4.6086, -4.6086, -4.6086, -4.6086, -4.6086, -4.6086, -4.6086, -4.6086, -4.6086, -4.6086, -4.6086, -4.6097, -4.6097, -3.2385, -4.3169, -4.2958, -4.0071, -4.2183, -4.3069, -4.5566, -4.8104, -4.8783, -4.9036, -5.0221, -5.0556, -5.0928, -5.1094, -5.1717, -5.1938, -5.2257, -5.2411, -5.2503, -5.2599, -5.2777, -5.2883, -5.2901, -5.3181, -5.3409, -5.3436, -5.37, -5.4255, -5.455, -5.4714, -5.4841, -5.4841, -5.4841, -5.4841, -5.4841, -5.4841, -4.8832, -3.8172, -4.1027, -4.4326, -4.4756, -4.788, -5.1949, -5.2803, -5.162, -5.0326, -4.6297, -4.9018, -4.7892, -4.8944, -4.8955, -5.1996, -5.2589, -4.6162, -4.6428, -4.6793, -4.7945, -4.8656, -4.9387, -5.1321, -5.151, -5.1665, -5.1781, -5.2873, -5.3293, -5.3702, -5.4655, -5.5116, -5.5428, -5.5536, -5.5702, -5.6249, -5.6819, -5.6943, -5.7043, -5.7164, -5.7566, -5.7568, -5.7787, -5.798, -5.7999, -5.8173, -5.8418, -5.057, -4.5109, -4.2705, -5.3587, -5.4142, -4.714, -5.5101, -5.1993, -4.5746, -5.0169, -5.1944, -5.4102, -4.845, -4.4639, -4.5767, -5.1253, -4.8099, -4.815, -5.0539, -5.1719, -5.3695, -3.5468, -3.7048, -4.0167, -4.2059, -4.213, -4.2759, -4.3482, -4.3676, -4.4205, -4.4784, -4.5021, -4.5064, -4.5448, -4.5569, -4.5576, -4.573, -4.573, -4.573, -4.573, -4.573, -4.573, -4.573, -4.573, -4.573, -4.5828, -4.8055, -4.9089, -5.1499, -5.2669, -5.2898, -4.3529, -4.3878, -4.2817, -4.0319, -4.7719, -3.8562, -3.9595, -4.0064, -4.0894, -4.278, -4.7729, -4.9363, -4.9456, -4.9624, -5.0092, -5.0772, -5.0772, -5.1307, -5.1778, -5.2475, -5.362, -5.4063, -5.4123, -5.5608, -5.5734, -5.5951, -5.6018, -5.6044, -5.6462, -5.6493, -5.6493, -5.6493, -5.6522, -5.7325, -5.7384, -3.1928, -4.2085, -4.3782, -5.1158, -5.2785, -5.0869, -5.2629, -4.8026, -4.917, -5.4873, -5.506, -5.181, -5.4866, -5.4772, -5.4788]}, \"topic.order\": [7, 1, 6, 10, 4, 8, 9, 5, 3, 2], \"token.table\": {\"Topic\": [1, 2, 2, 7, 10, 7, 7, 7, 5, 6, 7, 7, 5, 7, 8, 7, 4, 10, 3, 4, 2, 5, 3, 4, 7, 7, 3, 3, 3, 8, 5, 1, 10, 10, 8, 3, 8, 5, 8, 5, 6, 3, 1, 1, 5, 5, 1, 3, 9, 9, 4, 6, 6, 6, 1, 8, 1, 2, 3, 5, 6, 8, 9, 3, 6, 6, 5, 10, 5, 6, 6, 3, 7, 2, 2, 3, 2, 3, 9, 9, 1, 3, 1, 10, 2, 4, 8, 1, 5, 9, 10, 5, 1, 3, 7, 8, 10, 2, 6, 6, 1, 2, 4, 10, 8, 9, 9, 8, 7, 1, 6, 10, 9, 1, 5, 6, 1, 3, 7, 4, 8, 2, 4, 8, 1, 3, 4, 2, 6, 6, 5, 1, 2, 8, 1, 5, 5, 2, 10, 8, 10, 3, 5, 8, 8, 3, 8, 7, 8, 1, 3, 1, 5, 4, 2, 6, 6, 4, 7, 1, 2, 3, 5, 10, 4, 7, 2, 10, 2, 3, 7, 8, 1, 1, 1, 3, 6, 6, 4, 8, 10, 4, 2, 9, 1, 3, 2, 8, 2, 2, 1, 5, 6, 7, 7, 2, 1, 3, 6, 1, 3, 1, 2, 3, 4, 10, 1, 5, 1, 7, 8, 2, 9, 1, 2, 4, 5, 4, 5, 8, 1, 4, 5, 10, 1, 2, 4, 8, 1, 2, 3, 4, 8, 3, 3, 2, 3, 4, 2, 4, 5, 10, 1, 3, 5, 8, 1, 4, 8, 5, 5, 1, 2, 3, 4, 5, 6, 10, 1, 5, 6, 6, 4, 5, 4, 4, 1, 2, 8, 10, 10, 4, 4, 4, 1, 3, 5, 3, 3, 3, 3, 10, 9, 2, 1, 2, 2, 5, 9, 2, 3, 5, 7, 7, 1, 2, 3, 4, 6, 7, 8, 9, 9, 7, 10, 1, 5, 6, 8, 1, 2, 3, 4, 5, 6, 7, 8, 1, 2, 3, 2, 3, 8, 3, 3, 2, 5, 8, 5, 2, 5, 5, 2, 5, 5, 6, 6, 1, 3, 4, 5, 9, 10, 7, 8, 1, 6, 8, 6, 1, 1, 7, 10, 9, 2, 4, 6, 4, 2, 2, 6, 6, 3, 6, 2, 4, 1, 4, 8, 9, 4, 2, 1, 7, 8, 5, 1, 2, 4, 5, 4, 7, 1, 3, 7, 7, 2, 8, 8, 2, 8, 4, 6, 6, 7, 8, 7, 9, 9, 3, 8, 3, 1, 2, 3, 4, 5, 6, 9, 1, 2, 5, 6, 3, 3, 6, 1, 4, 6, 7, 1, 2, 3, 7, 2, 5, 4, 8, 6, 4, 8, 8, 7, 7, 7, 3, 9, 9, 9, 1, 5, 6, 8, 2, 4, 2, 3, 10, 1, 2, 3, 4, 6, 7, 8, 4, 2, 8, 5, 8, 9, 9, 10, 1, 2, 5, 7, 5, 8, 1, 1, 1, 3, 7, 9, 10, 6, 6, 1, 8, 3, 7, 7, 2, 4, 9, 9, 1, 4, 5, 9, 10, 5, 9, 9, 4, 7, 1, 6, 8, 6, 1, 10, 5, 1, 1, 3, 3, 2, 5, 5, 3, 4, 1, 4, 7, 9, 2, 8, 10, 3, 5, 7, 9, 3, 5, 3, 3, 1, 10, 10, 10, 1, 2, 3, 1, 2, 3, 4, 5, 7, 8, 1, 2, 3, 7, 7, 3, 4, 2, 3, 6, 6, 6, 4, 4, 7, 8, 9, 9, 4, 4, 5, 4, 5, 5, 6, 5, 2, 3, 4, 1, 4, 4, 2, 3, 3, 2, 9, 9, 3, 8, 10, 2, 4, 8, 3, 4, 7, 9, 2, 3, 10, 10, 10, 2, 3, 10, 10, 2, 3, 5, 9, 10, 2, 2, 3, 4, 10, 1, 3, 4, 7, 10, 2, 10, 1, 2, 2, 3, 7, 5, 8, 1, 2, 4, 5, 8, 6, 7, 8, 10, 2, 3, 4, 5, 7, 1, 8, 2, 1, 2, 3, 4, 5, 8, 9, 10, 1, 2, 3, 4, 5, 6, 7, 1, 1, 4, 9, 9, 1, 3, 4, 7, 8, 10, 5, 9, 10, 7, 7, 2, 8, 6, 10, 4, 2, 9, 9, 1, 2, 3, 5, 6, 7, 7, 3, 2, 5, 6, 7, 2, 3, 4, 4, 2, 7, 1, 3, 6, 2, 5, 8, 8, 4, 3, 8, 10, 10, 3, 2, 4, 7, 8, 8, 9, 2, 7, 9, 3, 2, 8, 3, 6, 9, 10, 1, 6, 8, 9, 10, 8, 1, 3, 8, 8, 8, 6, 1, 2, 7, 7, 1, 4, 5, 6, 8, 10, 10, 9, 7], \"Term\": [\"000\", \"000\", \"100\", \"16\", \"16\", \"16 17\", \"17\", \"17 year\", \"2017\", \"50\", \"8th\", \"8th agreed\", \"abbott\", \"abbott\", \"abbott\", \"abuse\", \"act\", \"act\", \"action\", \"action\", \"afternoon\", \"ago\", \"agree\", \"agree\", \"agreed\", \"agreed rt\", \"amnesty\", \"amnesty int\", \"answer\", \"answer\", \"answers\", \"anti\", \"apparently\", \"arabia\", \"aren\", \"ask\", \"ask\", \"asking\", \"asking\", \"asking leaders\", \"assimilate\", \"austerity\", \"bad\", \"bbc\", \"bbc\", \"bbcdebate\", \"believe\", \"benefits\", \"bercow\", \"bercow just\", \"better\", \"better\", \"biafra\", \"biafra hidden\", \"black\", \"blocked\", \"brexit\", \"brexit\", \"brexit\", \"brexit\", \"brexit\", \"brexit\", \"brexit\", \"brilliant\", \"brilliant\", \"britain\", \"british\", \"british\", \"british public\", \"brummy\", \"brummy left\", \"budget\", \"budget\", \"bus\", \"campaign\", \"campaign\", \"campaigning\", \"campaigning\", \"cancelled\", \"cancelled trump\", \"candidate\", \"candidate\", \"candidates\", \"cap\", \"car\", \"care\", \"case\", \"child\", \"child\", \"child\", \"child\", \"child refugees\", \"children\", \"children\", \"children\", \"children\", \"children\", \"citizens\", \"city\", \"city failed\", \"class\", \"clear\", \"clear\", \"climate\", \"coalition\", \"commons\", \"commons racism\", \"community\", \"conservatives\", \"constituents\", \"constituents\", \"consultation\", \"control\", \"corbyn\", \"corbyn\", \"corbyn\", \"country\", \"country\", \"country\", \"crisis\", \"crisis\", \"cut\", \"cut\", \"cut\", \"cuts\", \"cuts\", \"cuts\", \"day\", \"day\", \"day city\", \"days\", \"deal\", \"deal\", \"dear\", \"debate\", \"debate\", \"debate leader\", \"delighted\", \"demand\", \"dementiatax\", \"dementiatax\", \"democracy\", \"democracy\", \"democracy\", \"diane\", \"did\", \"difference\", \"discuss\", \"does\", \"doesn\", \"doesn\", \"don\", \"dubs\", \"ealing\", \"east\", \"edl\", \"edl migrated\", \"education\", \"education\", \"election\", \"election\", \"election\", \"election\", \"election\", \"elections\", \"elections\", \"energy\", \"energy\", \"eu\", \"event\", \"evidence\", \"exactly\", \"explain\", \"face\", \"facts\", \"failed\", \"failed\", \"failed assimilate\", \"failure\", \"fake\", \"falling\", \"fallon\", \"fantastic\", \"far\", \"fighting\", \"fighting\", \"food\", \"forced\", \"forthemany\", \"forward\", \"free\", \"free\", \"free\", \"free\", \"free school\", \"friends\", \"ge17\", \"ge17\", \"ge17\", \"ge17 votesnp\", \"ge17 votesnp\", \"ge2017\", \"ge2017\", \"ge2017\", \"ge2017\", \"gender\", \"general election\", \"generalelection\", \"gets\", \"getting\", \"getting\", \"gone\", \"gone\", \"good\", \"good\", \"good\", \"good\", \"good luck\", \"got\", \"got\", \"gov\", \"gov\", \"gov\", \"gov\", \"government\", \"government\", \"government\", \"government\", \"govt\", \"govt\", \"govt\", \"govt\", \"govt\", \"govt murderous\", \"grammar\", \"great\", \"great\", \"great\", \"green\", \"green\", \"green\", \"hackney\", \"hard\", \"hard\", \"hate\", \"having\", \"head\", \"health\", \"health\", \"heard\", \"heard asking\", \"help\", \"help\", \"help\", \"help\", \"help\", \"help\", \"helping\", \"hey\", \"hi\", \"hidden\", \"hidden world\", \"high\", \"hit\", \"home\", \"home secretary\", \"hope\", \"huge\", \"huge\", \"human\", \"human rights\", \"hunt\", \"hunting\", \"idea\", \"immigration\", \"important\", \"including\", \"int\", \"int report\", \"inter\", \"inter society\", \"international\", \"investigation\", \"investment\", \"isn\", \"isn\", \"issues\", \"jeremy corbyn\", \"job\", \"join\", \"join\", \"join\", \"june\", \"june 8th\", \"just\", \"just\", \"just\", \"just\", \"just\", \"just\", \"just\", \"just\", \"just cancelled\", \"just urged\", \"justice\", \"know\", \"know\", \"know\", \"know\", \"labour\", \"labour\", \"labour\", \"labour\", \"labour\", \"labour\", \"labour\", \"labour manifesto\", \"labour party\", \"labourdoorstep\", \"labourdoorstep\", \"launch\", \"launch\", \"launch\", \"lawless\", \"lawless amnesty\", \"leader\", \"leader\", \"leader\", \"leader respects\", \"leaders\", \"leaders\", \"leaders debate\", \"leave\", \"leave\", \"led\", \"left\", \"left edl\", \"let\", \"let\", \"let\", \"let\", \"let\", \"level\", \"lib\", \"lie\", \"lies\", \"like\", \"like\", \"like power\", \"listen\", \"listening\", \"little\", \"little\", \"live\", \"local\", \"local\", \"local\", \"local elections\", \"looking\", \"looking forward\", \"looks\", \"looks like\", \"lot\", \"lot\", \"lovely\", \"luck\", \"make\", \"make\", \"make\", \"make\", \"makes\", \"manchester\", \"manifesto\", \"manifesto\", \"manifesto\", \"market\", \"marr\", \"marr\", \"marr\", \"marr\", \"massive\", \"meals\", \"media\", \"media\", \"media\", \"meet\", \"members\", \"mental\", \"mention\", \"message\", \"met\", \"michael\", \"migrated\", \"migrated day\", \"ministers\", \"ministers\", \"ministers 16\", \"moment\", \"moment commons\", \"money\", \"money\", \"morning\", \"mp\", \"mp\", \"mp\", \"mp\", \"mp\", \"mp\", \"mp\", \"mps\", \"mps\", \"mps\", \"mps\", \"murderous\", \"murderous sadist\", \"nearly\", \"need\", \"need\", \"need\", \"need\", \"new\", \"new\", \"new\", \"new\", \"news\", \"news\", \"nhs\", \"nice\", \"nigeria\", \"nurses\", \"nurses\", \"oh\", \"olds\", \"olds vote\", \"open\", \"opens\", \"opposition\", \"parliament\", \"parliament proud\", \"party\", \"party\", \"party\", \"patients\", \"pay\", \"pay\", \"pension\", \"pensions\", \"pensions\", \"people\", \"people\", \"people\", \"people\", \"people\", \"people\", \"people\", \"person\", \"plans\", \"pleased\", \"pledge\", \"pledge\", \"pledge\", \"pls\", \"pls\", \"pm\", \"pm\", \"pm\", \"pm\", \"pmqs\", \"pmqs\", \"policies\", \"politicians\", \"politics\", \"politics\", \"politics\", \"politics\", \"post\", \"power\", \"power real\", \"ppl\", \"press\", \"prime\", \"prime\", \"prime ministers\", \"pro\", \"problem\", \"proud\", \"proud moment\", \"public\", \"public\", \"public\", \"public\", \"public\", \"public bbcdebate\", \"racism\", \"racism sexism\", \"rape\", \"reading\", \"real\", \"real\", \"real\", \"real brummy\", \"reality\", \"redlineforyemen\", \"refugees\", \"register\", \"report\", \"report\", \"report inter\", \"represent\", \"respects\", \"respects british\", \"response\", \"response\", \"right\", \"right\", \"right\", \"right\", \"rights\", \"rights\", \"rights\", \"rt\", \"rt\", \"rt\", \"rt\", \"rt agree\", \"rule\", \"sadist\", \"sadist lawless\", \"safe\", \"saudi\", \"saudi arabia\", \"saudi warcrimes\", \"say\", \"say\", \"say\", \"says\", \"says\", \"says\", \"says\", \"says\", \"says\", \"says\", \"school\", \"school\", \"school\", \"school\", \"school meals\", \"schools\", \"schools\", \"scotland\", \"scotland\", \"scotland\", \"secret\", \"secret biafra\", \"secretary\", \"seen\", \"seen\", \"services\", \"sexism\", \"sexism welcome\", \"shadow\", \"shadow home\", \"shame\", \"shocking\", \"sign\", \"single\", \"single\", \"single market\", \"snp\", \"snp\", \"snp\", \"social\", \"social\", \"social care\", \"society\", \"society\", \"society opens\", \"speak\", \"speaker\", \"speaker bercow\", \"speaking\", \"spending\", \"stable\", \"staff\", \"staff\", \"staff\", \"standing\", \"standing\", \"standing\", \"statement\", \"stop\", \"stop\", \"stop\", \"stoparmingsaudi\", \"stoparmingsaudi redlineforyemen\", \"strong\", \"strong\", \"strong\", \"strong stable\", \"support\", \"support\", \"support\", \"support\", \"support\", \"supporters\", \"supporting\", \"supporting\", \"supporting\", \"supporting\", \"sure\", \"taking\", \"tax\", \"tax\", \"tax\", \"team\", \"terrorism\", \"thank\", \"thank\", \"thanks\", \"thanks\", \"thanks\", \"theresa\", \"theresa\", \"think\", \"think\", \"think\", \"think\", \"think\", \"time\", \"time\", \"time\", \"time\", \"today\", \"today\", \"today\", \"today\", \"today\", \"told\", \"told\", \"tomorrow\", \"tories\", \"tories\", \"tories\", \"tories\", \"tories\", \"tories\", \"tories\", \"tories\", \"tory\", \"tory\", \"tory\", \"tory\", \"tory\", \"tory\", \"tory\", \"tory cuts\", \"tory government\", \"true\", \"trump\", \"trump visit\", \"truth\", \"turnout\", \"tv\", \"tweet\", \"tweet\", \"twitter\", \"uk\", \"uk\", \"uk\", \"urged\", \"urged prime\", \"use\", \"use\", \"used\", \"used\", \"using\", \"visit\", \"visit\", \"visit parliament\", \"vote\", \"vote\", \"vote\", \"vote\", \"vote\", \"vote\", \"vote june\", \"vote labour\", \"voted\", \"voted\", \"voted\", \"voted\", \"votelabour\", \"votelabour\", \"votelabour\", \"votelabour ge2017\", \"voters\", \"voters\", \"votesnp\", \"votesnp\", \"votesnp\", \"voting\", \"voting\", \"voting\", \"wait\", \"waiting\", \"want\", \"want\", \"warcrimes\", \"warcrimes yemen\", \"waspi\", \"watch\", \"watch\", \"watch\", \"watch\", \"way\", \"way\", \"welcome\", \"welcome\", \"welcome\", \"westminster\", \"wirral\", \"wish\", \"women\", \"women\", \"women\", \"women\", \"won\", \"won\", \"won\", \"won\", \"won\", \"words\", \"work\", \"work\", \"work\", \"workers\", \"workers rights\", \"world\", \"year\", \"year\", \"year\", \"year olds\", \"years\", \"years\", \"years\", \"years\", \"years\", \"yemen\", \"yemen stoparmingsaudi\", \"yes\", \"young\"], \"Freq\": [0.22167471311571332, 0.7758614959049966, 0.9563917653104724, 0.8914532900609619, 0.0972494498248322, 0.9789343010948793, 0.9810245642799952, 0.9821285616734228, 0.9650292119994183, 0.9929811369241526, 0.9798019020771135, 0.9621930060451697, 0.05744918593637687, 0.0861737789045653, 0.8330131960774646, 0.9703297250567373, 0.37489140110759916, 0.6185708118275386, 0.19428376901079217, 0.7947972368623316, 0.9739780463240475, 0.9670244080723707, 0.6883554034731679, 0.3024591924351798, 0.9904472568232716, 0.9621930060451703, 0.9758642658873542, 0.975864265887354, 0.7065996274511016, 0.2856466579057645, 0.9706287874852767, 0.988729288934213, 0.9352981565240693, 0.9667784900982043, 0.9752569357297346, 0.13220321634229074, 0.8498778193432975, 0.6969452693126504, 0.3024479470602068, 0.989914467705965, 0.9836073054334449, 0.9661392774673758, 0.9664201383960572, 0.20818738834035713, 0.7772329164706666, 0.9837350849080031, 0.9900776377959066, 0.9790643645708648, 0.9929527622521597, 0.9805316634890835, 0.21870270966652242, 0.7767716929535107, 0.99646502808322, 0.9845200918702564, 0.969609077057049, 0.9626299684307148, 0.4626388617519052, 0.13304647004629952, 0.09676106912458148, 0.10583241935501099, 0.08466593548400879, 0.07861836866372245, 0.03930918433186122, 0.8438648081997319, 0.1406441346999553, 0.9936244035001581, 0.724075221468373, 0.2681760079512493, 0.9686119160402316, 0.9846688667350755, 0.983607305433445, 0.8335941772120682, 0.15004695189817227, 0.9731460261762002, 0.8868516723122872, 0.1102005036601067, 0.7224536971018813, 0.27181426227595534, 0.9938514999269984, 0.9803653290987304, 0.33019061678593337, 0.6603812335718667, 0.9889467504803102, 0.9658701015645396, 0.9721689918953262, 0.9924350258581937, 0.9620349864957362, 0.2920756227924631, 0.5616838899855059, 0.056168388998550596, 0.07863574459797083, 0.9838450809855465, 0.3640041731148024, 0.21840250386888144, 0.3024034668953743, 0.050400577815895714, 0.06160070621942809, 0.9515394177271566, 0.9917152710365551, 0.9836073054334447, 0.9882411797268877, 0.22380867902229673, 0.757506298229312, 0.9735732890412604, 0.9476678536260983, 0.9899182233431318, 0.98036532909873, 0.9799455531279238, 0.9793284709263688, 0.8413001306992743, 0.143200022246685, 0.9803315138825178, 0.9903508222641396, 0.39771326820846303, 0.43748459502930936, 0.16571386175352626, 0.5736775265852847, 0.20356299330445587, 0.2128158566364766, 0.929342407687897, 0.06127532358381738, 0.07568463837829274, 0.17975101614844527, 0.7379252241883543, 0.44210276999519027, 0.35368221599615224, 0.20476338820829867, 0.41718394879299436, 0.5815291407417498, 0.9836073054334454, 0.9695461650412753, 0.921123496571929, 0.06140823310479527, 0.9745421849707947, 0.21643382349382634, 0.7739148840082275, 0.9899144677059659, 0.9670908570619479, 0.9711581351235347, 0.14621605939734814, 0.8041883266854147, 0.060573830999867115, 0.827842356998184, 0.10095638499977853, 0.9841318480339021, 0.9970847093271182, 0.9806768178364799, 0.9820525597269505, 0.9945647413608593, 0.9306331918479646, 0.052430038977350116, 0.9965994477474769, 0.978455886081737, 0.9846756238675923, 0.9889740984353902, 0.9940271608408207, 0.9836073054334454, 0.6987888909750198, 0.2967459674003509, 0.31040254382662646, 0.36361440848261956, 0.13746398369464885, 0.13746398369464885, 0.048777542601327016, 0.7722665200956915, 0.2071934566110392, 0.17987636756930642, 0.7914560173049483, 0.9939357073414289, 0.9830473146640086, 0.9763812679933129, 0.9422860568590422, 0.9855272507519676, 0.9860569002167756, 0.9817511003678955, 0.055920709941255, 0.9413319506777924, 0.9836073054334449, 0.9866746434586198, 0.9424869927298487, 0.9649667744910382, 0.9801202603100131, 0.9869065028945128, 0.974211538118242, 0.1676588471551106, 0.8215283510600419, 0.9627414446822861, 0.9824311146697003, 0.9680368091969039, 0.9835681353383207, 0.07433769596199376, 0.178410470308785, 0.11894031353919002, 0.6170028764845482, 0.9804603822685184, 0.9546718706609153, 0.1171498880173258, 0.8404231096895112, 0.04074778713646115, 0.12319675611613298, 0.8623772928129309, 0.2547239105615211, 0.4450965174022369, 0.17696608523221466, 0.12065869447651001, 0.9406195687774807, 0.970361728334709, 0.9746861135603395, 0.9821893848068585, 0.7386592805217368, 0.24621976017391228, 0.8306163365502444, 0.16251189193374346, 0.2986525317169323, 0.24716071590366812, 0.35357713525108075, 0.09611805618475981, 0.9670002616251917, 0.6376825563644701, 0.3579972246256674, 0.11445983734653023, 0.16351405335218602, 0.3597309173748093, 0.3597309173748093, 0.587450753415236, 0.1002964700952842, 0.2388011192744862, 0.07164033578234585, 0.40907268752964016, 0.017284761444914375, 0.36297999034320183, 0.023046348593219166, 0.1901323758940581, 0.9758642658873553, 0.9823321325443396, 0.7541381704307558, 0.2171003823967327, 0.02856583978904378, 0.684526134597335, 0.2147532971285757, 0.09395456749375186, 0.9655104217006178, 0.650430658676223, 0.3482103526246446, 0.96863573379343, 0.9763327411349205, 0.9740790766895955, 0.7527244809315873, 0.23445516619180587, 0.9835814938711684, 0.9899144677059665, 0.1873107748608651, 0.20487116000407118, 0.5268115542961831, 0.023413846857608136, 0.011706923428804068, 0.04097423200081424, 0.971159490093867, 0.9804393835997818, 0.9742655490518105, 0.9905963582132473, 0.984673949030178, 0.9783216089421737, 0.9776630410445267, 0.9922641057157906, 0.9818748066781313, 0.9885036150532864, 0.8589213622552324, 0.10736517028190405, 0.9767398909564414, 0.9671044597199249, 0.9658926445870728, 0.9558194781340986, 0.9887152398154606, 0.9814992808882217, 0.9650178362533671, 0.9595456457845248, 0.978744604977544, 0.9758642658873578, 0.9755773251977614, 0.9758642658873535, 0.9635714574710851, 0.9680682843495014, 0.9831668735939069, 0.815493615818857, 0.1664272685344606, 0.9698628666307686, 0.9758487865399853, 0.9939628781041354, 0.6348641831021173, 0.1293241854467276, 0.23513488263041385, 0.9931806212988797, 0.9821510440955427, 0.17931932777020634, 0.06128635252905787, 0.06809594725450874, 0.09533432615631224, 0.004539729816967249, 0.16116040850233734, 0.1861289224956572, 0.24287554520774784, 0.9803653290987298, 0.9621930060451687, 0.9678885113627912, 0.6360382303399095, 0.1144868814611837, 0.06360382303399094, 0.17809070449517464, 0.3594052368273734, 0.3055617556547332, 0.14672348619544456, 0.06730435146580026, 0.03903652385016415, 0.05653565523127222, 0.024229566527688092, 0.9763556163591058, 0.9887137754720321, 0.7142665567259875, 0.28238445265911133, 0.7931795512349937, 0.06221016088117598, 0.12442032176235196, 0.9758642658873573, 0.9758642658873563, 0.08081421060972892, 0.7093691820187316, 0.19754584815711512, 0.9899144677059657, 0.11032216088544503, 0.8825772870835602, 0.9720412584317155, 0.8879467329258021, 0.09976929583435978, 0.9530801328943114, 0.9931201424278285, 0.9836073054334455, 0.503581123041942, 0.08846695404790872, 0.05444120249102075, 0.23818026089821578, 0.10207725467066392, 0.9681822594077867, 0.9664889397738777, 0.9806683713982152, 0.965055950412279, 0.8011284500331115, 0.19691035977244828, 0.9836073054334452, 0.9695318838411993, 0.9764273926391311, 0.3311151430835989, 0.6622302861671978, 0.9899553744966356, 0.4677191316015821, 0.4110259035286631, 0.12047310965495298, 0.9621895146530594, 0.9819019624342412, 0.9815593402345456, 0.9936752733554336, 0.9890361585394543, 0.9390207827261284, 0.05075788014735829, 0.9886614969606302, 0.983962512331319, 0.40964120178897573, 0.05689461135957996, 0.41533066292493376, 0.11378922271915992, 0.9622622266191805, 0.9892993174320145, 0.12678962794540477, 0.24090029309626904, 0.6276086583297535, 0.9901384163037303, 0.24651746888857098, 0.10014772173598196, 0.5469606340965169, 0.10014772173598196, 0.9647248668504534, 0.9845652556039364, 0.2225003337277674, 0.16181842452928538, 0.6169327435179005, 0.9922501306697022, 0.9907555290838923, 0.9774129645456875, 0.9693224251247875, 0.9856058634843471, 0.9855312499278789, 0.9691683273700286, 0.9836073054334441, 0.9836073054334452, 0.8021697599872184, 0.1956511609724923, 0.9621930060451711, 0.9858565345109945, 0.9803653290987301, 0.4788212741500069, 0.5114681792056892, 0.9928259599566351, 0.09250219034425908, 0.30596878344639544, 0.22413992275724315, 0.09250219034425908, 0.09250219034425908, 0.15298439172319772, 0.03913554206872499, 0.2453922891010341, 0.2944707469212409, 0.42330169869928386, 0.036808843365155115, 0.9758642658873561, 0.975864265887357, 0.9866164943658864, 0.7375842916585326, 0.23156716133465555, 0.01715312306182634, 0.012864842296369753, 0.5212462125445043, 0.23093186631718543, 0.039588319940088934, 0.20453965302379282, 0.39956462450197405, 0.5875950360323148, 0.9971838049589228, 0.9718260394884468, 0.9930245122500168, 0.15654776973735354, 0.8349214385992189, 0.986298948397033, 0.9784893384197819, 0.9693961897655314, 0.9914818190365267, 0.9767790874123793, 0.9580090492395817, 0.9945792654970352, 0.9803653290987305, 0.7635442902358879, 0.15574784029687264, 0.07977328405449574, 0.9536215175299262, 0.42322924236506015, 0.5643056564867469, 0.9559222863913355, 0.30110395079098473, 0.6624286917401664, 0.2020469054977711, 0.19942291971208576, 0.17843103342660305, 0.11020740299878425, 0.013119928928426696, 0.14431921821269364, 0.15219117556974968, 0.9676070359261933, 0.9720784099720949, 0.979953872077866, 0.2200859328821922, 0.6602577986465766, 0.1185078100134881, 0.21598342809343507, 0.7679410776655469, 0.27406701398494315, 0.17338933537822934, 0.44186314499613283, 0.10067767860671381, 0.8308165326445194, 0.16616330652890388, 0.9780823501870681, 0.9804699758675596, 0.3050853159511715, 0.10487307735821519, 0.4576279739267572, 0.12394090960516341, 0.976644008221251, 0.9901250419963464, 0.9836073054334444, 0.9706131639460887, 0.9564635481477632, 0.13568922188931315, 0.8367502016507644, 0.9621930060451706, 0.9590249291938591, 0.9876123782446187, 0.9966296761577061, 0.9803653290987295, 0.15304152383645817, 0.2938397257659997, 0.3917863010213329, 0.12855488002262486, 0.030608304767291632, 0.9899144677059641, 0.9877178047779307, 0.9842464860988307, 0.9652023128457988, 0.9720811935793969, 0.13084540828450084, 0.6916114437895045, 0.16822981065150108, 0.9836073054334454, 0.9900012540689072, 0.9951610146278272, 0.9739950872062721, 0.9803637609157809, 0.22116157671458758, 0.7655593040120339, 0.9758642658873562, 0.9823305745852619, 0.9678454809660557, 0.9899144677059648, 0.7971800222250542, 0.19929500555626356, 0.5626873426790611, 0.22086792890206136, 0.07362264296735378, 0.1367277655107999, 0.08812854534616804, 0.5640226902154755, 0.34370132685005533, 0.31731124635225394, 0.42163275200231, 0.1738691760834268, 0.07824112923754206, 0.9836881040328699, 0.9694870946168717, 0.9758642658873564, 0.9758642658873549, 0.9842038149537203, 0.9878839053267678, 0.9846902608473893, 0.9655094681149041, 0.5810017685882869, 0.15573243281747898, 0.25755748504429216, 0.4461623686693507, 0.06298762851802599, 0.08398350469070132, 0.08923247373387015, 0.16796700938140263, 0.07348556660436364, 0.07348556660436364, 0.08642443068035795, 0.16204580752567116, 0.0972274845154027, 0.653584757020207, 0.970184048137069, 0.9416189288747215, 0.0550296776615097, 0.14942733851772466, 0.6973275797493818, 0.14942733851772466, 0.9913013690792903, 0.9846739490301776, 0.9943176458454257, 0.7241964448141065, 0.25444739952928064, 0.9876358490443666, 0.9878925363008774, 0.9803653290987296, 0.9826968430238331, 0.9620534030813103, 0.9912424367120184, 0.985133945516946, 0.9806751533985617, 0.8680389756493784, 0.12056096884019143, 0.980638808422548, 0.16311624504362607, 0.7580107857909681, 0.07676058590288286, 0.24278700545554785, 0.7553373503061489, 0.9941350270213809, 0.16114606756748937, 0.825873596283383, 0.9758642658873551, 0.9867644661102737, 0.9902575637424381, 0.9803653290987305, 0.9913018222284666, 0.9894101547740205, 0.9645137415121363, 0.09040200868602973, 0.30134002895343237, 0.5876130564591932, 0.7703646762863237, 0.07901176167039217, 0.1481470531319853, 0.9752298753817252, 0.007942656703217765, 0.3574195516447994, 0.6354125362574212, 0.9916376961485619, 0.9861170142227009, 0.07702547686090672, 0.26958916901317354, 0.6450883687100938, 0.9645137415121363, 0.23687796477356712, 0.4649826715925577, 0.08188374090938122, 0.14914538522780152, 0.06433722500022811, 0.9724329663703271, 0.4857796988765299, 0.044161790806957264, 0.1324853724208718, 0.3238531325843533, 0.9807527849694173, 0.9698863933091838, 0.38849437006393406, 0.22446341381471746, 0.37986116184029106, 0.9962012810458347, 0.9450735992466993, 0.19712435423271685, 0.8036608287949226, 0.6814324574475028, 0.2705687698688614, 0.04509479497814357, 0.7437773896096525, 0.24792579653655084, 0.5165435271207339, 0.07775924064183092, 0.07220500916741443, 0.2888200366696577, 0.03887962032091546, 0.06701627731654487, 0.6743512904977328, 0.16754069329136217, 0.0921473813102492, 0.6296404123894012, 0.15233235783614546, 0.11678814100771151, 0.05585519787325333, 0.04569970735084364, 0.1266985288425007, 0.8362102903605046, 0.9901732231963642, 0.20333554842352713, 0.05394616590828271, 0.27803023968114937, 0.22408407377286665, 0.06639528111788641, 0.12034144702616913, 0.018673672814405552, 0.033197640558943205, 0.4500072827007796, 0.04764782993302372, 0.09529565986604745, 0.15353189645085422, 0.0847072532142644, 0.07235411212051751, 0.09706039430801129, 0.9913800574419787, 0.9856717721290252, 0.9573025351706534, 0.9938571962628737, 0.981165762260554, 0.9677457605520501, 0.9872969375058464, 0.9889717034071249, 0.2534292563135026, 0.7372487456392802, 0.9626355398177394, 0.1529829300028183, 0.09858899933514956, 0.7479165466804449, 0.986807921289768, 0.9621930060451694, 0.390764380894502, 0.586146571341753, 0.19741461938148033, 0.7614563890428527, 0.9743437757622806, 0.10256404764508366, 0.8888884129240584, 0.9803653290987305, 0.4109126763336094, 0.13389289453567046, 0.13158439635402097, 0.16852036726041283, 0.013850989089896945, 0.14081838908061894, 0.9757476020371053, 0.9716987419665175, 0.41059711739475074, 0.4776333814591998, 0.016759066016112274, 0.09217486308861751, 0.5928094304278259, 0.14969935111813784, 0.25149490987847156, 0.9789696376681263, 0.6869329622379767, 0.3070994419416837, 0.08728482089807617, 0.8825465224138813, 0.024245783582798937, 0.7307897425544112, 0.09569865676307765, 0.16529767986349778, 0.9680639893654822, 0.9630360299541444, 0.8311660591409618, 0.16350807720805804, 0.9655094681149008, 0.9655094681149058, 0.9914175500152185, 0.06462783687860131, 0.3769957151251743, 0.08617044917146842, 0.4523948581502092, 0.18259749734451694, 0.8055771941669865, 0.16281150984038198, 0.07236067104016976, 0.7507419620417614, 0.9836600027982249, 0.9776483849637004, 0.9658020704538982, 0.5179781322120619, 0.2413878674386308, 0.2212722118187449, 0.0201156556198859, 0.5829770212543907, 0.07645600278746106, 0.1433550052264895, 0.11468400418119161, 0.07645600278746106, 0.9877783158671504, 0.47238229228562834, 0.181685497032934, 0.33914626112814344, 0.9828824523861327, 0.9777658265762302, 0.992785645325578, 0.1766469344862414, 0.1204410916951646, 0.6985583318319547, 0.969281990604464, 0.15765981154148942, 0.191102801868472, 0.1385495313546422, 0.4873121447646036, 0.023887850233559, 0.9915301577343529, 0.9853432784462361, 0.9921017076771222, 0.9777843228625148]}, \"R\": 30};\n",
       "\n",
       "function LDAvis_load_lib(url, callback){\n",
       "  var s = document.createElement('script');\n",
       "  s.src = url;\n",
       "  s.async = true;\n",
       "  s.onreadystatechange = s.onload = callback;\n",
       "  s.onerror = function(){console.warn(\"failed to load library \" + url);};\n",
       "  document.getElementsByTagName(\"head\")[0].appendChild(s);\n",
       "}\n",
       "\n",
       "if(typeof(LDAvis) !== \"undefined\"){\n",
       "   // already loaded: just create the visualization\n",
       "   !function(LDAvis){\n",
       "       new LDAvis(\"#\" + \"ldavis_el1665610137580164762871082\", ldavis_el1665610137580164762871082_data);\n",
       "   }(LDAvis);\n",
       "}else if(typeof define === \"function\" && define.amd){\n",
       "   // require.js is available: use it to load d3/LDAvis\n",
       "   require.config({paths: {d3: \"https://cdnjs.cloudflare.com/ajax/libs/d3/3.5.5/d3.min\"}});\n",
       "   require([\"d3\"], function(d3){\n",
       "      window.d3 = d3;\n",
       "      LDAvis_load_lib(\"https://cdn.rawgit.com/bmabey/pyLDAvis/files/ldavis.v1.0.0.js\", function(){\n",
       "        new LDAvis(\"#\" + \"ldavis_el1665610137580164762871082\", ldavis_el1665610137580164762871082_data);\n",
       "      });\n",
       "    });\n",
       "}else{\n",
       "    // require.js not available: dynamically load d3 & LDAvis\n",
       "    LDAvis_load_lib(\"https://cdnjs.cloudflare.com/ajax/libs/d3/3.5.5/d3.min.js\", function(){\n",
       "         LDAvis_load_lib(\"https://cdn.rawgit.com/bmabey/pyLDAvis/files/ldavis.v1.0.0.js\", function(){\n",
       "                 new LDAvis(\"#\" + \"ldavis_el1665610137580164762871082\", ldavis_el1665610137580164762871082_data);\n",
       "            })\n",
       "         });\n",
       "}\n",
       "</script>"
      ],
      "text/plain": [
       "<IPython.core.display.HTML object>"
      ]
     },
     "execution_count": 11,
     "metadata": {},
     "output_type": "execute_result"
    }
   ],
   "source": [
    "test = pyLDAvis.sklearn.prepare(lda_model=lda, vectorizer=tf_vectorizer, dtm=tf)\n",
    "pyLDAvis.display(test)"
   ]
  }
 ],
 "metadata": {
  "kernelspec": {
   "display_name": "Python 3",
   "language": "python",
   "name": "python3"
  },
  "language_info": {
   "codemirror_mode": {
    "name": "ipython",
    "version": 3
   },
   "file_extension": ".py",
   "mimetype": "text/x-python",
   "name": "python",
   "nbconvert_exporter": "python",
   "pygments_lexer": "ipython3",
   "version": "3.5.2"
  }
 },
 "nbformat": 4,
 "nbformat_minor": 2
}
