{
 "cells": [
  {
   "cell_type": "markdown",
   "metadata": {},
   "source": [
    "# JSON maker"
   ]
  },
  {
   "cell_type": "markdown",
   "metadata": {},
   "source": [
    "This notebook is for making jsons from the data."
   ]
  },
  {
   "cell_type": "code",
   "execution_count": 56,
   "metadata": {
    "collapsed": true
   },
   "outputs": [],
   "source": [
    "import pandas as pd"
   ]
  },
  {
   "cell_type": "code",
   "execution_count": 57,
   "metadata": {
    "collapsed": false
   },
   "outputs": [],
   "source": [
    "df_mps = pd.read_pickle('../data/interim/tweeted_at.pkl')\n",
    "df_htags = pd.read_pickle('../data/interim/hashtag_indices.pkl')\n",
    "df = pd.read_pickle('../data/interim/aggregated.pkl')"
   ]
  },
  {
   "cell_type": "code",
   "execution_count": 58,
   "metadata": {
    "collapsed": false
   },
   "outputs": [
    {
     "data": {
      "text/plain": [
       "0              [@azkxxo, @MaryjoPinkett, @AmberRuddHR]\n",
       "1              [@RTUKnews, @EmmaLewellBuck, @UKLabour]\n",
       "2                                    [@alisonthewliss]\n",
       "3    [@TarekFatah, @EmilyThornberry, @BBCNews,, @Je...\n",
       "4                                        [@ChiOnwurah]\n",
       "Name: Tweeted At, dtype: object"
      ]
     },
     "execution_count": 58,
     "metadata": {},
     "output_type": "execute_result"
    }
   ],
   "source": [
    "df['Tweeted At'].head()"
   ]
  },
  {
   "cell_type": "code",
   "execution_count": 59,
   "metadata": {
    "collapsed": true
   },
   "outputs": [],
   "source": [
    "def make_gen(key, series):\n",
    "    for i, keys in series.iteritems():\n",
    "        if key in keys:\n",
    "            yield i"
   ]
  },
  {
   "cell_type": "code",
   "execution_count": 60,
   "metadata": {
    "collapsed": false
   },
   "outputs": [
    {
     "data": {
      "text/html": [
       "<div>\n",
       "<table border=\"1\" class=\"dataframe\">\n",
       "  <thead>\n",
       "    <tr style=\"text-align: right;\">\n",
       "      <th></th>\n",
       "      <th>name</th>\n",
       "      <th>sort_name</th>\n",
       "      <th>twitter_username</th>\n",
       "      <th>email</th>\n",
       "      <th>party</th>\n",
       "      <th>constituency</th>\n",
       "      <th>followers</th>\n",
       "      <th>Race/ Ethicity</th>\n",
       "      <th>Ethnic minority</th>\n",
       "      <th>Religion minority</th>\n",
       "      <th>Age/ DOB</th>\n",
       "      <th>image</th>\n",
       "    </tr>\n",
       "  </thead>\n",
       "  <tbody>\n",
       "    <tr>\n",
       "      <th>0</th>\n",
       "      <td>Alison McGovern</td>\n",
       "      <td>McGovern, Alison</td>\n",
       "      <td>@Alison_McGovern</td>\n",
       "      <td>alison.mcgovern.mp@parliament.uk</td>\n",
       "      <td>Labour</td>\n",
       "      <td>Wirral South</td>\n",
       "      <td>28505</td>\n",
       "      <td>NaN</td>\n",
       "      <td>White</td>\n",
       "      <td>NaN</td>\n",
       "      <td>1980</td>\n",
       "      <td>https://candidates.democracyclub.org.uk/media/...</td>\n",
       "    </tr>\n",
       "    <tr>\n",
       "      <th>1</th>\n",
       "      <td>Alison Thewliss</td>\n",
       "      <td>Thewliss, Alison</td>\n",
       "      <td>@alisonthewliss</td>\n",
       "      <td>alison.thewliss.mp@parliament.uk</td>\n",
       "      <td>Scottish National Party</td>\n",
       "      <td>Glasgow Central</td>\n",
       "      <td>13818</td>\n",
       "      <td>NaN</td>\n",
       "      <td>White</td>\n",
       "      <td>NaN</td>\n",
       "      <td>1982</td>\n",
       "      <td>https://candidates.democracyclub.org.uk/media/...</td>\n",
       "    </tr>\n",
       "    <tr>\n",
       "      <th>2</th>\n",
       "      <td>Amanda Milling</td>\n",
       "      <td>Milling, Amanda</td>\n",
       "      <td>@amandamilling</td>\n",
       "      <td>amanda.milling.mp@parliament.uk</td>\n",
       "      <td>Conservative</td>\n",
       "      <td>Cannock Chase</td>\n",
       "      <td>3961</td>\n",
       "      <td>NaN</td>\n",
       "      <td>White</td>\n",
       "      <td>NaN</td>\n",
       "      <td>1975</td>\n",
       "      <td>https://candidates.democracyclub.org.uk/media/...</td>\n",
       "    </tr>\n",
       "    <tr>\n",
       "      <th>3</th>\n",
       "      <td>Amanda Solloway</td>\n",
       "      <td>Solloway, Amanda</td>\n",
       "      <td>NaN</td>\n",
       "      <td>amanda.solloway.mp@parliament.uk</td>\n",
       "      <td>Conservative</td>\n",
       "      <td>Derby North</td>\n",
       "      <td>0</td>\n",
       "      <td>NaN</td>\n",
       "      <td>White</td>\n",
       "      <td>NaN</td>\n",
       "      <td>1961</td>\n",
       "      <td>https://candidates.democracyclub.org.uk/media/...</td>\n",
       "    </tr>\n",
       "    <tr>\n",
       "      <th>4</th>\n",
       "      <td>Amber Rudd</td>\n",
       "      <td>Rudd, Amber</td>\n",
       "      <td>@AmberRuddHR</td>\n",
       "      <td>amber.rudd.mp@parliament.uk</td>\n",
       "      <td>Conservative</td>\n",
       "      <td>Hastings and Rye</td>\n",
       "      <td>39798</td>\n",
       "      <td>NaN</td>\n",
       "      <td>White</td>\n",
       "      <td>NaN</td>\n",
       "      <td>1963</td>\n",
       "      <td>https://candidates.democracyclub.org.uk/media/...</td>\n",
       "    </tr>\n",
       "  </tbody>\n",
       "</table>\n",
       "</div>"
      ],
      "text/plain": [
       "              name         sort_name  twitter_username  \\\n",
       "0  Alison McGovern  McGovern, Alison  @Alison_McGovern   \n",
       "1  Alison Thewliss  Thewliss, Alison   @alisonthewliss   \n",
       "2   Amanda Milling   Milling, Amanda    @amandamilling   \n",
       "3  Amanda Solloway  Solloway, Amanda               NaN   \n",
       "4       Amber Rudd       Rudd, Amber      @AmberRuddHR   \n",
       "\n",
       "                              email                    party  \\\n",
       "0  alison.mcgovern.mp@parliament.uk                   Labour   \n",
       "1  alison.thewliss.mp@parliament.uk  Scottish National Party   \n",
       "2   amanda.milling.mp@parliament.uk             Conservative   \n",
       "3  amanda.solloway.mp@parliament.uk             Conservative   \n",
       "4       amber.rudd.mp@parliament.uk             Conservative   \n",
       "\n",
       "       constituency  followers Race/ Ethicity Ethnic minority  \\\n",
       "0      Wirral South      28505            NaN           White   \n",
       "1   Glasgow Central      13818            NaN           White   \n",
       "2     Cannock Chase       3961            NaN           White   \n",
       "3       Derby North          0            NaN           White   \n",
       "4  Hastings and Rye      39798            NaN           White   \n",
       "\n",
       "  Religion minority  Age/ DOB  \\\n",
       "0               NaN      1980   \n",
       "1               NaN      1982   \n",
       "2               NaN      1975   \n",
       "3               NaN      1961   \n",
       "4               NaN      1963   \n",
       "\n",
       "                                               image  \n",
       "0  https://candidates.democracyclub.org.uk/media/...  \n",
       "1  https://candidates.democracyclub.org.uk/media/...  \n",
       "2  https://candidates.democracyclub.org.uk/media/...  \n",
       "3  https://candidates.democracyclub.org.uk/media/...  \n",
       "4  https://candidates.democracyclub.org.uk/media/...  "
      ]
     },
     "execution_count": 60,
     "metadata": {},
     "output_type": "execute_result"
    }
   ],
   "source": [
    "df_women = pd.read_excel('../data/raw/Hackathon_WomenMP.xlsx')\n",
    "df_women['twitter_username'] = df_women['twitter_username'].map(lambda x: '@' + x, na_action='ignore')\n",
    "df_women.head()"
   ]
  },
  {
   "cell_type": "code",
   "execution_count": 61,
   "metadata": {
    "collapsed": false
   },
   "outputs": [],
   "source": [
    "df_women['tweetedAt'] = df_women['twitter_username'].map(lambda x: [i for i in make_gen(x, df['Tweeted At'])])"
   ]
  },
  {
   "cell_type": "code",
   "execution_count": 62,
   "metadata": {
    "collapsed": false
   },
   "outputs": [
    {
     "data": {
      "text/plain": [
       "Index(['name', 'sort_name', 'twitter_username', 'email', 'party',\n",
       "       'constituency', 'followers', 'Race/ Ethicity', 'Ethnic minority',\n",
       "       'Religion minority', 'Age/ DOB', 'image', 'tweetedAt'],\n",
       "      dtype='object')"
      ]
     },
     "execution_count": 62,
     "metadata": {},
     "output_type": "execute_result"
    }
   ],
   "source": [
    "df_women.columns"
   ]
  },
  {
   "cell_type": "code",
   "execution_count": 72,
   "metadata": {
    "collapsed": false
   },
   "outputs": [],
   "source": [
    "names = {'sort_name': 'sortName', 'twitter_username': 'twitterUsername', \n",
    "         'Ethnic minority':'ethnicity', 'Religion minority':'religion',\n",
    "         'Age/ DOB':'dob'}\n",
    "df_women.rename(columns=names, inplace=True)"
   ]
  },
  {
   "cell_type": "code",
   "execution_count": 73,
   "metadata": {
    "collapsed": false
   },
   "outputs": [],
   "source": [
    "cols = ['name', 'sortName', 'twitterUsername', 'email', 'party', 'constituency', 'followers',\n",
    "        'ethnicity', 'religion', 'dob', 'image', 'tweetedAt' ]\n",
    "df_women[cols].head(1000).to_json(path_or_buf='../web/json/mps.txt', orient='records')"
   ]
  },
  {
   "cell_type": "code",
   "execution_count": 66,
   "metadata": {
    "collapsed": false
   },
   "outputs": [],
   "source": [
    "df = pd.read_pickle('../data/processed/tweets.pkl')"
   ]
  },
  {
   "cell_type": "code",
   "execution_count": 67,
   "metadata": {
    "collapsed": false
   },
   "outputs": [
    {
     "data": {
      "text/plain": [
       "Index(['GUID', 'Date (GMT)', 'URL', 'Contents', 'Author', 'Name', 'Country',\n",
       "       'State/Region', 'City/Urban Area', 'Category', 'Emotion', 'Source',\n",
       "       'Klout Score', 'Gender', 'Posts', 'Followers', 'Following',\n",
       "       'Tweeted At', 'Hashtags', 'Clean Contents', 'abusive'],\n",
       "      dtype='object')"
      ]
     },
     "execution_count": 67,
     "metadata": {},
     "output_type": "execute_result"
    }
   ],
   "source": [
    "df.columns"
   ]
  },
  {
   "cell_type": "code",
   "execution_count": 70,
   "metadata": {
    "collapsed": true
   },
   "outputs": [],
   "source": [
    "names = {'GUID': 'guid', 'Date (GMT)': 'date', 'URL': 'url', 'Contents': 'content', 'Author': 'authorName',\n",
    "         'Country': 'country', 'State/Region': 'state', 'City/Urban Area': 'cityArea', 'Emotion': 'emotion',\n",
    "         'Source': 'source', 'Klout Score': 'kloutScore', 'Gender': 'gender', 'Posts': 'posts', \n",
    "         'Followers': 'followers', 'Following': 'following'}\n",
    "df.rename(columns=names, inplace=True)"
   ]
  },
  {
   "cell_type": "code",
   "execution_count": 71,
   "metadata": {
    "collapsed": false
   },
   "outputs": [],
   "source": [
    "cols = ['guid', 'date', 'url', 'content', 'authorName', 'country', 'state', 'cityArea', 'emotion', 'source',\n",
    "        'kloutScore', 'gender', 'posts', 'followers', 'following']\n",
    "df.sample(2000)[cols].to_json('../web/json/tweets.txt')"
   ]
  }
 ],
 "metadata": {
  "kernelspec": {
   "display_name": "Python 3",
   "language": "python",
   "name": "python3"
  },
  "language_info": {
   "codemirror_mode": {
    "name": "ipython",
    "version": 3
   },
   "file_extension": ".py",
   "mimetype": "text/x-python",
   "name": "python",
   "nbconvert_exporter": "python",
   "pygments_lexer": "ipython3",
   "version": "3.6.0"
  }
 },
 "nbformat": 4,
 "nbformat_minor": 2
}
