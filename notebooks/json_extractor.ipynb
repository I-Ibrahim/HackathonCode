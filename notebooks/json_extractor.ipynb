{
 "cells": [
  {
   "cell_type": "markdown",
   "metadata": {},
   "source": [
    "# JSON maker"
   ]
  },
  {
   "cell_type": "markdown",
   "metadata": {},
   "source": [
    "This notebook is for making jsons from the data."
   ]
  },
  {
   "cell_type": "code",
   "execution_count": 35,
   "metadata": {
    "collapsed": true
   },
   "outputs": [],
   "source": [
    "import pandas as pd"
   ]
  },
  {
   "cell_type": "code",
   "execution_count": 36,
   "metadata": {
    "collapsed": false
   },
   "outputs": [],
   "source": [
    "df_mps = pd.read_pickle('../data/interim/tweeted_at.pkl')\n",
    "df_htags = pd.read_pickle('../data/interim/hashtag_indices.pkl')\n",
    "df = pd.read_pickle('../data/interim/aggregated.pkl')"
   ]
  },
  {
   "cell_type": "code",
   "execution_count": 38,
   "metadata": {
    "collapsed": false
   },
   "outputs": [
    {
     "data": {
      "text/plain": [
       "0              [@azkxxo, @MaryjoPinkett, @AmberRuddHR]\n",
       "1              [@RTUKnews, @EmmaLewellBuck, @UKLabour]\n",
       "2                                    [@alisonthewliss]\n",
       "3    [@TarekFatah, @EmilyThornberry, @BBCNews,, @Je...\n",
       "4                                        [@ChiOnwurah]\n",
       "Name: Tweeted At, dtype: object"
      ]
     },
     "execution_count": 38,
     "metadata": {},
     "output_type": "execute_result"
    }
   ],
   "source": [
    "df['Tweeted At'].head()"
   ]
  },
  {
   "cell_type": "code",
   "execution_count": 39,
   "metadata": {
    "collapsed": true
   },
   "outputs": [],
   "source": [
    "def make_gen(key, series):\n",
    "    for i, keys in series.iteritems():\n",
    "        if key in keys:\n",
    "            yield i"
   ]
  },
  {
   "cell_type": "code",
   "execution_count": 44,
   "metadata": {
    "collapsed": false
   },
   "outputs": [
    {
     "data": {
      "text/html": [
       "<div>\n",
       "<table border=\"1\" class=\"dataframe\">\n",
       "  <thead>\n",
       "    <tr style=\"text-align: right;\">\n",
       "      <th></th>\n",
       "      <th>name</th>\n",
       "      <th>sort_name</th>\n",
       "      <th>twitter_username</th>\n",
       "      <th>email</th>\n",
       "      <th>party</th>\n",
       "      <th>constituency</th>\n",
       "      <th>followers</th>\n",
       "      <th>Race/ Ethicity</th>\n",
       "      <th>Ethnic minority</th>\n",
       "      <th>Religion minority</th>\n",
       "      <th>Age/ DOB</th>\n",
       "      <th>image</th>\n",
       "    </tr>\n",
       "  </thead>\n",
       "  <tbody>\n",
       "    <tr>\n",
       "      <th>0</th>\n",
       "      <td>Alison McGovern</td>\n",
       "      <td>McGovern, Alison</td>\n",
       "      <td>@Alison_McGovern</td>\n",
       "      <td>alison.mcgovern.mp@parliament.uk</td>\n",
       "      <td>Labour</td>\n",
       "      <td>Wirral South</td>\n",
       "      <td>28505</td>\n",
       "      <td>NaN</td>\n",
       "      <td>White</td>\n",
       "      <td>NaN</td>\n",
       "      <td>1980</td>\n",
       "      <td>https://candidates.democracyclub.org.uk/media/...</td>\n",
       "    </tr>\n",
       "    <tr>\n",
       "      <th>1</th>\n",
       "      <td>Alison Thewliss</td>\n",
       "      <td>Thewliss, Alison</td>\n",
       "      <td>@alisonthewliss</td>\n",
       "      <td>alison.thewliss.mp@parliament.uk</td>\n",
       "      <td>Scottish National Party</td>\n",
       "      <td>Glasgow Central</td>\n",
       "      <td>13818</td>\n",
       "      <td>NaN</td>\n",
       "      <td>White</td>\n",
       "      <td>NaN</td>\n",
       "      <td>1982</td>\n",
       "      <td>https://candidates.democracyclub.org.uk/media/...</td>\n",
       "    </tr>\n",
       "    <tr>\n",
       "      <th>2</th>\n",
       "      <td>Amanda Milling</td>\n",
       "      <td>Milling, Amanda</td>\n",
       "      <td>@amandamilling</td>\n",
       "      <td>amanda.milling.mp@parliament.uk</td>\n",
       "      <td>Conservative</td>\n",
       "      <td>Cannock Chase</td>\n",
       "      <td>3961</td>\n",
       "      <td>NaN</td>\n",
       "      <td>White</td>\n",
       "      <td>NaN</td>\n",
       "      <td>1975</td>\n",
       "      <td>https://candidates.democracyclub.org.uk/media/...</td>\n",
       "    </tr>\n",
       "    <tr>\n",
       "      <th>3</th>\n",
       "      <td>Amanda Solloway</td>\n",
       "      <td>Solloway, Amanda</td>\n",
       "      <td>NaN</td>\n",
       "      <td>amanda.solloway.mp@parliament.uk</td>\n",
       "      <td>Conservative</td>\n",
       "      <td>Derby North</td>\n",
       "      <td>0</td>\n",
       "      <td>NaN</td>\n",
       "      <td>White</td>\n",
       "      <td>NaN</td>\n",
       "      <td>1961</td>\n",
       "      <td>https://candidates.democracyclub.org.uk/media/...</td>\n",
       "    </tr>\n",
       "    <tr>\n",
       "      <th>4</th>\n",
       "      <td>Amber Rudd</td>\n",
       "      <td>Rudd, Amber</td>\n",
       "      <td>@AmberRuddHR</td>\n",
       "      <td>amber.rudd.mp@parliament.uk</td>\n",
       "      <td>Conservative</td>\n",
       "      <td>Hastings and Rye</td>\n",
       "      <td>39798</td>\n",
       "      <td>NaN</td>\n",
       "      <td>White</td>\n",
       "      <td>NaN</td>\n",
       "      <td>1963</td>\n",
       "      <td>https://candidates.democracyclub.org.uk/media/...</td>\n",
       "    </tr>\n",
       "  </tbody>\n",
       "</table>\n",
       "</div>"
      ],
      "text/plain": [
       "              name         sort_name  twitter_username  \\\n",
       "0  Alison McGovern  McGovern, Alison  @Alison_McGovern   \n",
       "1  Alison Thewliss  Thewliss, Alison   @alisonthewliss   \n",
       "2   Amanda Milling   Milling, Amanda    @amandamilling   \n",
       "3  Amanda Solloway  Solloway, Amanda               NaN   \n",
       "4       Amber Rudd       Rudd, Amber      @AmberRuddHR   \n",
       "\n",
       "                              email                    party  \\\n",
       "0  alison.mcgovern.mp@parliament.uk                   Labour   \n",
       "1  alison.thewliss.mp@parliament.uk  Scottish National Party   \n",
       "2   amanda.milling.mp@parliament.uk             Conservative   \n",
       "3  amanda.solloway.mp@parliament.uk             Conservative   \n",
       "4       amber.rudd.mp@parliament.uk             Conservative   \n",
       "\n",
       "       constituency  followers Race/ Ethicity Ethnic minority  \\\n",
       "0      Wirral South      28505            NaN           White   \n",
       "1   Glasgow Central      13818            NaN           White   \n",
       "2     Cannock Chase       3961            NaN           White   \n",
       "3       Derby North          0            NaN           White   \n",
       "4  Hastings and Rye      39798            NaN           White   \n",
       "\n",
       "  Religion minority  Age/ DOB  \\\n",
       "0               NaN      1980   \n",
       "1               NaN      1982   \n",
       "2               NaN      1975   \n",
       "3               NaN      1961   \n",
       "4               NaN      1963   \n",
       "\n",
       "                                               image  \n",
       "0  https://candidates.democracyclub.org.uk/media/...  \n",
       "1  https://candidates.democracyclub.org.uk/media/...  \n",
       "2  https://candidates.democracyclub.org.uk/media/...  \n",
       "3  https://candidates.democracyclub.org.uk/media/...  \n",
       "4  https://candidates.democracyclub.org.uk/media/...  "
      ]
     },
     "execution_count": 44,
     "metadata": {},
     "output_type": "execute_result"
    }
   ],
   "source": [
    "df_women = pd.read_excel('../data/raw/Hackathon_WomenMP.xlsx')\n",
    "df_women['twitter_username'] = df_women['twitter_username'].map(lambda x: '@' + x, na_action='ignore')\n",
    "df_women.head()"
   ]
  },
  {
   "cell_type": "code",
   "execution_count": 45,
   "metadata": {
    "collapsed": false
   },
   "outputs": [],
   "source": [
    "df_women['tweetedAt'] = df_women['twitter_username'].map(lambda x: [i for i in make_gen(x, df['Tweeted At'])])"
   ]
  },
  {
   "cell_type": "code",
   "execution_count": 46,
   "metadata": {
    "collapsed": false
   },
   "outputs": [
    {
     "data": {
      "text/html": [
       "<div>\n",
       "<table border=\"1\" class=\"dataframe\">\n",
       "  <thead>\n",
       "    <tr style=\"text-align: right;\">\n",
       "      <th></th>\n",
       "      <th>name</th>\n",
       "      <th>sortName</th>\n",
       "      <th>twitterUsername</th>\n",
       "      <th>email</th>\n",
       "      <th>party</th>\n",
       "      <th>constituency</th>\n",
       "      <th>followers</th>\n",
       "      <th>Race/ Ethicity</th>\n",
       "      <th>ethnicity</th>\n",
       "      <th>religion</th>\n",
       "      <th>Age/ DOB</th>\n",
       "      <th>image</th>\n",
       "      <th>tweetedAt</th>\n",
       "    </tr>\n",
       "  </thead>\n",
       "  <tbody>\n",
       "    <tr>\n",
       "      <th>0</th>\n",
       "      <td>Alison McGovern</td>\n",
       "      <td>McGovern, Alison</td>\n",
       "      <td>@Alison_McGovern</td>\n",
       "      <td>alison.mcgovern.mp@parliament.uk</td>\n",
       "      <td>Labour</td>\n",
       "      <td>Wirral South</td>\n",
       "      <td>28505</td>\n",
       "      <td>NaN</td>\n",
       "      <td>White</td>\n",
       "      <td>NaN</td>\n",
       "      <td>1980</td>\n",
       "      <td>https://candidates.democracyclub.org.uk/media/...</td>\n",
       "      <td>[229, 232, 416, 827, 962, 1320, 2735, 3018, 31...</td>\n",
       "    </tr>\n",
       "    <tr>\n",
       "      <th>1</th>\n",
       "      <td>Alison Thewliss</td>\n",
       "      <td>Thewliss, Alison</td>\n",
       "      <td>@alisonthewliss</td>\n",
       "      <td>alison.thewliss.mp@parliament.uk</td>\n",
       "      <td>Scottish National Party</td>\n",
       "      <td>Glasgow Central</td>\n",
       "      <td>13818</td>\n",
       "      <td>NaN</td>\n",
       "      <td>White</td>\n",
       "      <td>NaN</td>\n",
       "      <td>1982</td>\n",
       "      <td>https://candidates.democracyclub.org.uk/media/...</td>\n",
       "      <td>[2, 205, 434, 860, 1445, 2033, 2167, 2191, 250...</td>\n",
       "    </tr>\n",
       "    <tr>\n",
       "      <th>2</th>\n",
       "      <td>Amanda Milling</td>\n",
       "      <td>Milling, Amanda</td>\n",
       "      <td>@amandamilling</td>\n",
       "      <td>amanda.milling.mp@parliament.uk</td>\n",
       "      <td>Conservative</td>\n",
       "      <td>Cannock Chase</td>\n",
       "      <td>3961</td>\n",
       "      <td>NaN</td>\n",
       "      <td>White</td>\n",
       "      <td>NaN</td>\n",
       "      <td>1975</td>\n",
       "      <td>https://candidates.democracyclub.org.uk/media/...</td>\n",
       "      <td>[23689, 24296, 24523, 24672, 24691, 24739, 247...</td>\n",
       "    </tr>\n",
       "    <tr>\n",
       "      <th>3</th>\n",
       "      <td>Amanda Solloway</td>\n",
       "      <td>Solloway, Amanda</td>\n",
       "      <td>NaN</td>\n",
       "      <td>amanda.solloway.mp@parliament.uk</td>\n",
       "      <td>Conservative</td>\n",
       "      <td>Derby North</td>\n",
       "      <td>0</td>\n",
       "      <td>NaN</td>\n",
       "      <td>White</td>\n",
       "      <td>NaN</td>\n",
       "      <td>1961</td>\n",
       "      <td>https://candidates.democracyclub.org.uk/media/...</td>\n",
       "      <td>[]</td>\n",
       "    </tr>\n",
       "    <tr>\n",
       "      <th>4</th>\n",
       "      <td>Amber Rudd</td>\n",
       "      <td>Rudd, Amber</td>\n",
       "      <td>@AmberRuddHR</td>\n",
       "      <td>amber.rudd.mp@parliament.uk</td>\n",
       "      <td>Conservative</td>\n",
       "      <td>Hastings and Rye</td>\n",
       "      <td>39798</td>\n",
       "      <td>NaN</td>\n",
       "      <td>White</td>\n",
       "      <td>NaN</td>\n",
       "      <td>1963</td>\n",
       "      <td>https://candidates.democracyclub.org.uk/media/...</td>\n",
       "      <td>[0, 9, 10, 22, 48, 80, 85, 88, 97, 105, 108, 1...</td>\n",
       "    </tr>\n",
       "  </tbody>\n",
       "</table>\n",
       "</div>"
      ],
      "text/plain": [
       "              name          sortName   twitterUsername  \\\n",
       "0  Alison McGovern  McGovern, Alison  @Alison_McGovern   \n",
       "1  Alison Thewliss  Thewliss, Alison   @alisonthewliss   \n",
       "2   Amanda Milling   Milling, Amanda    @amandamilling   \n",
       "3  Amanda Solloway  Solloway, Amanda               NaN   \n",
       "4       Amber Rudd       Rudd, Amber      @AmberRuddHR   \n",
       "\n",
       "                              email                    party  \\\n",
       "0  alison.mcgovern.mp@parliament.uk                   Labour   \n",
       "1  alison.thewliss.mp@parliament.uk  Scottish National Party   \n",
       "2   amanda.milling.mp@parliament.uk             Conservative   \n",
       "3  amanda.solloway.mp@parliament.uk             Conservative   \n",
       "4       amber.rudd.mp@parliament.uk             Conservative   \n",
       "\n",
       "       constituency  followers Race/ Ethicity ethnicity religion  Age/ DOB  \\\n",
       "0      Wirral South      28505            NaN     White      NaN      1980   \n",
       "1   Glasgow Central      13818            NaN     White      NaN      1982   \n",
       "2     Cannock Chase       3961            NaN     White      NaN      1975   \n",
       "3       Derby North          0            NaN     White      NaN      1961   \n",
       "4  Hastings and Rye      39798            NaN     White      NaN      1963   \n",
       "\n",
       "                                               image  \\\n",
       "0  https://candidates.democracyclub.org.uk/media/...   \n",
       "1  https://candidates.democracyclub.org.uk/media/...   \n",
       "2  https://candidates.democracyclub.org.uk/media/...   \n",
       "3  https://candidates.democracyclub.org.uk/media/...   \n",
       "4  https://candidates.democracyclub.org.uk/media/...   \n",
       "\n",
       "                                           tweetedAt  \n",
       "0  [229, 232, 416, 827, 962, 1320, 2735, 3018, 31...  \n",
       "1  [2, 205, 434, 860, 1445, 2033, 2167, 2191, 250...  \n",
       "2  [23689, 24296, 24523, 24672, 24691, 24739, 247...  \n",
       "3                                                 []  \n",
       "4  [0, 9, 10, 22, 48, 80, 85, 88, 97, 105, 108, 1...  "
      ]
     },
     "execution_count": 46,
     "metadata": {},
     "output_type": "execute_result"
    }
   ],
   "source": [
    "names = {'sort_name': 'sortName', 'twitter_username': 'twitterUsername', \n",
    "         'Ethnic minority':'ethnicity', 'Religion minority':'religion'\n",
    "         'Age/DOB':'dob'}\n",
    "df_women.head().rename(columns=names)"
   ]
  },
  {
   "cell_type": "code",
   "execution_count": 47,
   "metadata": {
    "collapsed": false
   },
   "outputs": [
    {
     "ename": "KeyError",
     "evalue": "\"['name' 'sortName' 'twitterUsername' 'email' 'party' 'constituency'\\n 'followersethnicity' 'religion' 'dob' 'image' 'tweetedAt'] not in index\"",
     "output_type": "error",
     "traceback": [
      "\u001b[0;31m---------------------------------------------------------------------------\u001b[0m",
      "\u001b[0;31mKeyError\u001b[0m                                  Traceback (most recent call last)",
      "\u001b[0;32m<ipython-input-47-9922fe314d16>\u001b[0m in \u001b[0;36m<module>\u001b[0;34m()\u001b[0m\n\u001b[1;32m      1\u001b[0m cols = ['name', 'sortName', 'twitterUsername', 'email', 'party', 'constituency', 'followers'\n\u001b[1;32m      2\u001b[0m         'ethnicity', 'religion', 'dob', 'image', 'tweetedAt' ]\n\u001b[0;32m----> 3\u001b[0;31m \u001b[0mdf\u001b[0m\u001b[0;34m[\u001b[0m\u001b[0mcols\u001b[0m\u001b[0;34m]\u001b[0m\u001b[0;34m.\u001b[0m\u001b[0mhead\u001b[0m\u001b[0;34m(\u001b[0m\u001b[0;34m)\u001b[0m\u001b[0;34m.\u001b[0m\u001b[0mto_json\u001b[0m\u001b[0;34m(\u001b[0m\u001b[0mpath_or_buf\u001b[0m\u001b[0;34m=\u001b[0m\u001b[0;34m'../web/json/tweets.txt'\u001b[0m\u001b[0;34m,\u001b[0m \u001b[0morient\u001b[0m\u001b[0;34m=\u001b[0m\u001b[0;34m'records'\u001b[0m\u001b[0;34m)\u001b[0m\u001b[0;34m\u001b[0m\u001b[0m\n\u001b[0m",
      "\u001b[0;32m/anaconda/lib/python3.6/site-packages/pandas/core/frame.py\u001b[0m in \u001b[0;36m__getitem__\u001b[0;34m(self, key)\u001b[0m\n\u001b[1;32m   2051\u001b[0m         \u001b[0;32mif\u001b[0m \u001b[0misinstance\u001b[0m\u001b[0;34m(\u001b[0m\u001b[0mkey\u001b[0m\u001b[0;34m,\u001b[0m \u001b[0;34m(\u001b[0m\u001b[0mSeries\u001b[0m\u001b[0;34m,\u001b[0m \u001b[0mnp\u001b[0m\u001b[0;34m.\u001b[0m\u001b[0mndarray\u001b[0m\u001b[0;34m,\u001b[0m \u001b[0mIndex\u001b[0m\u001b[0;34m,\u001b[0m \u001b[0mlist\u001b[0m\u001b[0;34m)\u001b[0m\u001b[0;34m)\u001b[0m\u001b[0;34m:\u001b[0m\u001b[0;34m\u001b[0m\u001b[0m\n\u001b[1;32m   2052\u001b[0m             \u001b[0;31m# either boolean or fancy integer index\u001b[0m\u001b[0;34m\u001b[0m\u001b[0;34m\u001b[0m\u001b[0m\n\u001b[0;32m-> 2053\u001b[0;31m             \u001b[0;32mreturn\u001b[0m \u001b[0mself\u001b[0m\u001b[0;34m.\u001b[0m\u001b[0m_getitem_array\u001b[0m\u001b[0;34m(\u001b[0m\u001b[0mkey\u001b[0m\u001b[0;34m)\u001b[0m\u001b[0;34m\u001b[0m\u001b[0m\n\u001b[0m\u001b[1;32m   2054\u001b[0m         \u001b[0;32melif\u001b[0m \u001b[0misinstance\u001b[0m\u001b[0;34m(\u001b[0m\u001b[0mkey\u001b[0m\u001b[0;34m,\u001b[0m \u001b[0mDataFrame\u001b[0m\u001b[0;34m)\u001b[0m\u001b[0;34m:\u001b[0m\u001b[0;34m\u001b[0m\u001b[0m\n\u001b[1;32m   2055\u001b[0m             \u001b[0;32mreturn\u001b[0m \u001b[0mself\u001b[0m\u001b[0;34m.\u001b[0m\u001b[0m_getitem_frame\u001b[0m\u001b[0;34m(\u001b[0m\u001b[0mkey\u001b[0m\u001b[0;34m)\u001b[0m\u001b[0;34m\u001b[0m\u001b[0m\n",
      "\u001b[0;32m/anaconda/lib/python3.6/site-packages/pandas/core/frame.py\u001b[0m in \u001b[0;36m_getitem_array\u001b[0;34m(self, key)\u001b[0m\n\u001b[1;32m   2095\u001b[0m             \u001b[0;32mreturn\u001b[0m \u001b[0mself\u001b[0m\u001b[0;34m.\u001b[0m\u001b[0mtake\u001b[0m\u001b[0;34m(\u001b[0m\u001b[0mindexer\u001b[0m\u001b[0;34m,\u001b[0m \u001b[0maxis\u001b[0m\u001b[0;34m=\u001b[0m\u001b[0;36m0\u001b[0m\u001b[0;34m,\u001b[0m \u001b[0mconvert\u001b[0m\u001b[0;34m=\u001b[0m\u001b[0;32mFalse\u001b[0m\u001b[0;34m)\u001b[0m\u001b[0;34m\u001b[0m\u001b[0m\n\u001b[1;32m   2096\u001b[0m         \u001b[0;32melse\u001b[0m\u001b[0;34m:\u001b[0m\u001b[0;34m\u001b[0m\u001b[0m\n\u001b[0;32m-> 2097\u001b[0;31m             \u001b[0mindexer\u001b[0m \u001b[0;34m=\u001b[0m \u001b[0mself\u001b[0m\u001b[0;34m.\u001b[0m\u001b[0mix\u001b[0m\u001b[0;34m.\u001b[0m\u001b[0m_convert_to_indexer\u001b[0m\u001b[0;34m(\u001b[0m\u001b[0mkey\u001b[0m\u001b[0;34m,\u001b[0m \u001b[0maxis\u001b[0m\u001b[0;34m=\u001b[0m\u001b[0;36m1\u001b[0m\u001b[0;34m)\u001b[0m\u001b[0;34m\u001b[0m\u001b[0m\n\u001b[0m\u001b[1;32m   2098\u001b[0m             \u001b[0;32mreturn\u001b[0m \u001b[0mself\u001b[0m\u001b[0;34m.\u001b[0m\u001b[0mtake\u001b[0m\u001b[0;34m(\u001b[0m\u001b[0mindexer\u001b[0m\u001b[0;34m,\u001b[0m \u001b[0maxis\u001b[0m\u001b[0;34m=\u001b[0m\u001b[0;36m1\u001b[0m\u001b[0;34m,\u001b[0m \u001b[0mconvert\u001b[0m\u001b[0;34m=\u001b[0m\u001b[0;32mTrue\u001b[0m\u001b[0;34m)\u001b[0m\u001b[0;34m\u001b[0m\u001b[0m\n\u001b[1;32m   2099\u001b[0m \u001b[0;34m\u001b[0m\u001b[0m\n",
      "\u001b[0;32m/anaconda/lib/python3.6/site-packages/pandas/core/indexing.py\u001b[0m in \u001b[0;36m_convert_to_indexer\u001b[0;34m(self, obj, axis, is_setter)\u001b[0m\n\u001b[1;32m   1228\u001b[0m                 \u001b[0mmask\u001b[0m \u001b[0;34m=\u001b[0m \u001b[0mcheck\u001b[0m \u001b[0;34m==\u001b[0m \u001b[0;34m-\u001b[0m\u001b[0;36m1\u001b[0m\u001b[0;34m\u001b[0m\u001b[0m\n\u001b[1;32m   1229\u001b[0m                 \u001b[0;32mif\u001b[0m \u001b[0mmask\u001b[0m\u001b[0;34m.\u001b[0m\u001b[0many\u001b[0m\u001b[0;34m(\u001b[0m\u001b[0;34m)\u001b[0m\u001b[0;34m:\u001b[0m\u001b[0;34m\u001b[0m\u001b[0m\n\u001b[0;32m-> 1230\u001b[0;31m                     \u001b[0;32mraise\u001b[0m \u001b[0mKeyError\u001b[0m\u001b[0;34m(\u001b[0m\u001b[0;34m'%s not in index'\u001b[0m \u001b[0;34m%\u001b[0m \u001b[0mobjarr\u001b[0m\u001b[0;34m[\u001b[0m\u001b[0mmask\u001b[0m\u001b[0;34m]\u001b[0m\u001b[0;34m)\u001b[0m\u001b[0;34m\u001b[0m\u001b[0m\n\u001b[0m\u001b[1;32m   1231\u001b[0m \u001b[0;34m\u001b[0m\u001b[0m\n\u001b[1;32m   1232\u001b[0m                 \u001b[0;32mreturn\u001b[0m \u001b[0m_values_from_object\u001b[0m\u001b[0;34m(\u001b[0m\u001b[0mindexer\u001b[0m\u001b[0;34m)\u001b[0m\u001b[0;34m\u001b[0m\u001b[0m\n",
      "\u001b[0;31mKeyError\u001b[0m: \"['name' 'sortName' 'twitterUsername' 'email' 'party' 'constituency'\\n 'followersethnicity' 'religion' 'dob' 'image' 'tweetedAt'] not in index\""
     ]
    }
   ],
   "source": [
    "cols = ['name', 'sortName', 'twitterUsername', 'email', 'party', 'constituency', 'followers'\n",
    "        'ethnicity', 'religion', 'dob', 'image', 'tweetedAt' ]\n",
    "df[cols].head().to_json(path_or_buf='../web/json/tweets.txt', orient='records')"
   ]
  }
 ],
 "metadata": {
  "kernelspec": {
   "display_name": "Python 3",
   "language": "python",
   "name": "python3"
  },
  "language_info": {
   "codemirror_mode": {
    "name": "ipython",
    "version": 3
   },
   "file_extension": ".py",
   "mimetype": "text/x-python",
   "name": "python",
   "nbconvert_exporter": "python",
   "pygments_lexer": "ipython3",
   "version": "3.6.0"
  }
 },
 "nbformat": 4,
 "nbformat_minor": 2
}
